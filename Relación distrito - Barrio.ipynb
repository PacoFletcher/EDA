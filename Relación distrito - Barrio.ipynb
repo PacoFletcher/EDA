{
 "cells": [
  {
   "cell_type": "markdown",
   "id": "6b195580",
   "metadata": {},
   "source": [
    "#### Top 5 por bajo\n",
    "\n",
    "Iturrigorri - Peñascal -> Rekalde   \n",
    "\n",
    "Otxarkoaga -> Otxarkoaga\n",
    "\n",
    "Uretamendi -> Rekalde\n",
    "\n",
    "Altamira -> Basurto\n",
    "\n",
    "Arabella -> Uribarri\n",
    "\n"
   ]
  },
  {
   "cell_type": "markdown",
   "id": "f46c0632",
   "metadata": {},
   "source": [
    "#### Top 5\n",
    "\n",
    "Abando -> Abando\n",
    "\n",
    "Indautxu -> Indautxu\n",
    "\n",
    "Castaños -> Uribarri\n",
    "\n",
    "Casco Viejo -> Casco\n",
    "\n",
    "Basurtu -> Basurto"
   ]
  }
 ],
 "metadata": {
  "language_info": {
   "name": "python"
  }
 },
 "nbformat": 4,
 "nbformat_minor": 5
}
