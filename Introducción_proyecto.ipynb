{
 "cells": [
  {
   "cell_type": "markdown",
   "metadata": {},
   "source": [
    "# EDA: Evolución de la renta en los diferentes barrios de Bilbao (periodo 2006-2022)\n",
    "\n",
    "## Introducción\n",
    "\n",
    "En este análisis exploratorio de datos se pretende estudiar cómo ha evolucionado la riqueza en el municipio de Bilbao en el periodo que abarca desde 2006 hasta 2022, teniendo encuenta el desglose de diferentes factores que influyen en la Renta de las Personas Físicas.\n",
    "\n",
    "## Fuente de datos, metodología y definiciones\n",
    "\n",
    "Los datos han sido extraídos de la base de datos oficial de Euskadi, a través de este enlace: https://www.eustat.eus/bankupx/pxweb/es/DB/-/PX_173402_crpf_rpf_rp22_2p.px/table/tableViewLayout2/.\n",
    "\n",
    "Según la propias fuentes, la fiabilidad de estos resultados es del 89,62%.\n",
    "\n",
    ">La RPF mantiene la correspondencia entre los ficheros procedentes de las Haciendas Forales y el Registro de Población de Eustat. El indicador de la Tasa de Fusión Bruta, que mide la media ponderada de porcentajes de fusión del Registro de Población con cada fuente utilizada, en 2022 ha sido de 89,62%.\n",
    "\n",
    "En este conjunto de datos se ha tomado teniendo en cuenta únicamente a la población de más de 18 años, lo cual permite que la mayor o menor abundacia menores de edad no influya en la distribución de la renta.\n",
    "\n",
    "Variables y definiciones:\n",
    "* **Renta personal total**: Resulta de la agregación, para cada persona de 18 y más años, de sus rentas del trabajo, rentas derivadas de actividades económicas, transferencias o prestaciones sociales y las percibidas por el capital, tanto mobiliario como inmobiliario.\n",
    "* **Renta del trabajo** : Se entiende por renta del trabajo la remuneración total, monetaria o no monetaria, que paga un empleador a su asalariado como contrapartida del trabajo realizado por éste durante el período de referencia de los ingresos.\n",
    "* **Renta del capital mobiliario**: Se consideran rendimientos del capital mobiliario los intereses de cuentas bancarias, bonos, obligaciones y, en general, títulos de renta fija, los dividendos de acciones y las plusvalías obtenidas por la transmisión de cualquier tipo de valores mobiliarios, percibidos durante el período de referencia. En la práctica los rendimientos del capital mobiliario lo conforman los intereses, dividendos, plusvalías, etc. sin descontar las retenciones efectuadas. Sólo se tienen en cuenta intereses declarados de cuantía superior o igual a 5 euros. <nl> \n",
    "Bajo este epígrafe también se incluyen los rendimientos obtenidos en EPSVs (Entidades de Previsión Social Voluntaria). Se toma el 35% del rescate como estimación de las ganancias obtenidas. <nl>\n",
    "También dentro de este epígrafe se incluyen las ganancias y pérdidas patrimoniales derivadas de la transmisión de participaciones en fondos de inversión colectiva, acciones, seguros, etc.\n",
    "* **Renta del capital inmobiliario**: Se consideran rendimientos del capital inmobiliario los que se derivan del arrendamiento o de la constitución o cesión de derechos o facultades de uso o disfrute sobre bienes inmuebles rústicos y urbanos, percibidos durante el período de referencia.\n",
    "* **Renta de actividades económicas**: Se entienden por rendimientos de actividades económicas aquéllos que, procediendo del trabajo personal y del capital conjuntamente o de uno sólo de estos factores, suponen por parte del contribuyente la ordenación por cuenta propia de medios de producción o de recursos humanos con la finalidad de intervenir en la producción o distribución de bienes y servicios. \n",
    "* **Transferencias**: Se entienden por transferencias las prestaciones sociales monetarias de cobertura obligatoria o basadas en el principio de solidaridad social (quedan excluidas por tanto las prestaciones sociales voluntarias).\n",
    "\n",
    "* **Renta disponible**: Resulta de descontar a la renta personal total los gastos de Seguridad Social y la cuota líquida o las retenciones a cuenta.\n",
    "\n",
    "## Primeras intuiciones\n",
    "\n",
    "En un primer vistazo al conjunto de datos, se aprecia una clara subida general de la renta de las personas físicas desde el inicio del periodo. Sin embargo, si lo analizamos más detenidamente, se puede intuir una disparidad de crecimiento si comparamos los barrios de mayor poder adquisitivo con aquellos más empobrecidos.\n",
    "\n",
    "Dentro de estas desigualdades, las más notoria (a priori) es la renta inmobiliaria, que en los barrios más ricos se incrementa significativamente mientras que en los más pobres no aumenta tanto.\n",
    "\n",
    "## Posibles ampliaciones\n",
    "\n",
    "1. Para contextualizar el supuesto aumento de riqueza de los diferentes barrios, puede ser interesante hacer una comparativa con la evolución de la inflación en España durante este mismo periodo (todavía no se ha extraído la fuente). \n",
    "\n",
    "2. Si se confirman las intuiciones, con respecto a la vivienda, extraer la evolución del precio por $m^2$ tanto en alquiler como en compra-venta en los diferentes distritos a partir del registro en [idealista](https://www.idealista.com/sala-de-prensa/informes-precio-vivienda/alquiler/euskadi/vizcaya/bilbao/). En este caso, se agruparían los diferentes barrios según el distrito al que pertenecen, tal y como se presenta en la web.\n",
    "\n",
    "3. Enfocándonos en la variable `transferencias`, intentar conseguir datos demográficos para analizar sobre qué colectivo de personas se encuentra una mayor correlación (como una primera hipótesis se intuye que quizá los barrios más envejecidos reciban una mayor retribución debido a las pensiones).\n",
    "\n",
    "## Limitaciones\n",
    "\n",
    "* Partimos de una base de datos ya procesada, en la que directamente se ha calculado la media de las diferentes rentas de las personas físicas según el barrio al que pertenecen. Esto implica una pérdida de contexto al prescindir de otros datos de dispersión como la desviación estándar, los percentiles, entre otros. \n",
    "\n",
    "* Otra limitación es no tener disponible los datos sobre población real de cada barrio, ya que esta puede fluctuar debido a diferentes factores (construcción de nueva vivienda, encarecimiento de los precios de compra-venta de vivienda y de alquileres, etc.), aspecto que puede influir en la evolución socioeconómica de los diferentes barrios.\n",
    "\n",
    "* Debido a la metodología, los datos no tienen una periodicidad constante. Primero hay un salto de 3 años, (2006-2009) y hasta 2013 saltos de dos años (2011, 2013)"
   ]
  }
 ],
 "metadata": {
  "language_info": {
   "name": "python"
  }
 },
 "nbformat": 4,
 "nbformat_minor": 2
}
