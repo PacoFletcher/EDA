{
 "cells": [
  {
   "cell_type": "code",
   "execution_count": 4,
   "metadata": {},
   "outputs": [],
   "source": [
    "import pandas as pd\n",
    "import numpy as np\n",
    "import matplotlib.pyplot as plt\n",
    "import seaborn as sns\n",
    "from datetime import datetime\n",
    "from dateutil import parser"
   ]
  },
  {
   "cell_type": "code",
   "execution_count": 5,
   "metadata": {},
   "outputs": [],
   "source": [
    "comp_bilbo = pd.read_csv(\"Data/precio_metro_bilbao.csv\", encoding = \"Windows 1250\")\n",
    "comp_bilbo[\"Distrito\"] = \"BILBAO\""
   ]
  },
  {
   "cell_type": "code",
   "execution_count": 6,
   "metadata": {},
   "outputs": [],
   "source": [
    "comp_abando = pd.read_csv(\"Data/precio_metro_abando.csv\", encoding = \"Windows 1250\")\n",
    "comp_abando[\"Distrito\"] = \"Abando\""
   ]
  },
  {
   "cell_type": "code",
   "execution_count": 7,
   "metadata": {},
   "outputs": [],
   "source": [
    "comp_basurto = pd.read_csv(\"Data/precio_metro_basurto.csv\", encoding = \"Windows 1250\")\n",
    "comp_basurto[\"Distrito\"] = \"Basurto\""
   ]
  },
  {
   "cell_type": "code",
   "execution_count": 8,
   "metadata": {},
   "outputs": [],
   "source": [
    "comp_begonia = pd.read_csv(\"Data/precio_metro_begoña.csv\", encoding = \"Windows 1250\")\n",
    "comp_begonia[\"Distrito\"] = \"Begoña\""
   ]
  },
  {
   "cell_type": "code",
   "execution_count": 9,
   "metadata": {},
   "outputs": [],
   "source": [
    "comp_casco = pd.read_csv(\"Data/precio_metro_casco.csv\", encoding = \"Windows 1250\")\n",
    "comp_casco[\"Distrito\"] = \"Casco\""
   ]
  },
  {
   "cell_type": "code",
   "execution_count": 10,
   "metadata": {},
   "outputs": [],
   "source": [
    "comp_deusto = pd.read_csv(\"Data/precio_metro_deusto.csv\", encoding = \"Windows 1250\")\n",
    "comp_deusto[\"Distrito\"] = \"Deusto\""
   ]
  },
  {
   "cell_type": "code",
   "execution_count": 11,
   "metadata": {},
   "outputs": [],
   "source": [
    "comp_ibaiondo = pd.read_csv(\"Data/precio_metro_ibaiondo.csv\", encoding = \"Windows 1250\")\n",
    "comp_ibaiondo[\"Distrito\"] = \"Ibaiondo\""
   ]
  },
  {
   "cell_type": "code",
   "execution_count": 12,
   "metadata": {},
   "outputs": [],
   "source": [
    "comp_indautxu = pd.read_csv(\"Data/precio_metro_indautxu.csv\", encoding = \"Windows 1250\")\n",
    "comp_indautxu[\"Distrito\"] = \"Indautxu\""
   ]
  },
  {
   "cell_type": "code",
   "execution_count": 13,
   "metadata": {},
   "outputs": [],
   "source": [
    "comp_otxarkoaga = pd.read_csv(\"Data/precio_metro_otxarkoaga.csv\", encoding = \"Windows 1250\")\n",
    "comp_otxarkoaga[\"Distrito\"] = \"Otxarkoaga\""
   ]
  },
  {
   "cell_type": "code",
   "execution_count": 14,
   "metadata": {},
   "outputs": [],
   "source": [
    "comp_rekalde = pd.read_csv(\"Data/precio_metro_rekalde.csv\", encoding = \"Windows 1250\")\n",
    "comp_rekalde[\"Distrito\"] = \"Rekalde\""
   ]
  },
  {
   "cell_type": "code",
   "execution_count": 15,
   "metadata": {},
   "outputs": [],
   "source": [
    "comp_uribarri = pd.read_csv(\"Data/precio_metro_uribarri.csv\", encoding = \"Windows 1250\")\n",
    "comp_uribarri[\"Distrito\"] = \"Uribarri\""
   ]
  },
  {
   "cell_type": "code",
   "execution_count": 16,
   "metadata": {},
   "outputs": [],
   "source": [
    "compra = [comp_abando,comp_basurto,comp_begonia,comp_casco,comp_deusto,comp_ibaiondo,comp_indautxu,comp_otxarkoaga,comp_rekalde,comp_uribarri]"
   ]
  },
  {
   "cell_type": "code",
   "execution_count": 17,
   "metadata": {},
   "outputs": [
    {
     "data": {
      "application/vnd.microsoft.datawrangler.viewer.v0+json": {
       "columns": [
        {
         "name": "index",
         "rawType": "int64",
         "type": "integer"
        },
        {
         "name": "Mes",
         "rawType": "object",
         "type": "string"
        },
        {
         "name": "Precio m2",
         "rawType": "object",
         "type": "string"
        },
        {
         "name": "Variación mensual",
         "rawType": "object",
         "type": "string"
        },
        {
         "name": "Variación trimestral",
         "rawType": "object",
         "type": "string"
        },
        {
         "name": "Variación anual",
         "rawType": "object",
         "type": "string"
        },
        {
         "name": "Distrito",
         "rawType": "object",
         "type": "string"
        }
       ],
       "conversionMethod": "pd.DataFrame",
       "ref": "af54ef25-ae08-4dd0-925e-44b78c8a105b",
       "rows": [
        [
         "0",
         "01/02/25",
         "3.524 €/m2",
         "1.1%",
         "3.2%",
         "7.6%",
         "BILBAO"
        ],
        [
         "1",
         "01/01/25",
         "3.485 €/m2",
         "-0.2%",
         "3.1%",
         "6.8%",
         "BILBAO"
        ],
        [
         "2",
         "01/12/24",
         "3.491 €/m2",
         "2.2%",
         "3.1%",
         "7.7%",
         "BILBAO"
        ],
        [
         "3",
         "01/11/24",
         "3.417 €/m2",
         "1.1%",
         "1,00%",
         "6.2%",
         "BILBAO"
        ],
        [
         "4",
         "01/10/24",
         "3.381 €/m2",
         "-0.1%",
         "0.9%",
         "5.9%",
         "BILBAO"
        ],
        [
         "5",
         "01/09/24",
         "3.384 €/m2",
         "0,00%",
         "2.5%",
         "6.1%",
         "BILBAO"
        ],
        [
         "6",
         "01/08/24",
         "3.383 €/m2",
         "1,00%",
         "2.7%",
         "6.9%",
         "BILBAO"
        ],
        [
         "7",
         "01/07/24",
         "3.350 €/m2",
         "1.5%",
         "1.9%",
         "6.3%",
         "BILBAO"
        ],
        [
         "8",
         "01/06/24",
         "3.301 €/m2",
         "0.2%",
         "0.3%",
         "4.1%",
         "BILBAO"
        ],
        [
         "9",
         "01/05/24",
         "3.293 €/m2",
         "0.1%",
         "0.5%",
         "2.8%",
         "BILBAO"
        ],
        [
         "10",
         "01/04/24",
         "3.290 €/m2",
         "-0.1%",
         "0.8%",
         "3.4%",
         "BILBAO"
        ],
        [
         "11",
         "01/03/24",
         "3.292 €/m2",
         "0.5%",
         "1.6%",
         "3.7%",
         "BILBAO"
        ],
        [
         "12",
         "01/02/24",
         "3.277 €/m2",
         "0.4%",
         "1.9%",
         "3.1%",
         "BILBAO"
        ],
        [
         "13",
         "01/01/24",
         "3.264 €/m2",
         "0.7%",
         "2.2%",
         "2.4%",
         "BILBAO"
        ],
        [
         "14",
         "01/12/23",
         "3.241 €/m2",
         "0.7%",
         "1.6%",
         "2.3%",
         "BILBAO"
        ],
        [
         "15",
         "01/11/23",
         "3.217 €/m2",
         "0.8%",
         "1.7%",
         "2.1%",
         "BILBAO"
        ],
        [
         "16",
         "01/10/23",
         "3.193 €/m2",
         "0.1%",
         "1.3%",
         "1.7%",
         "BILBAO"
        ],
        [
         "17",
         "01/09/23",
         "3.191 €/m2",
         "0.8%",
         "0.6%",
         "3.3%",
         "BILBAO"
        ],
        [
         "18",
         "01/08/23",
         "3.164 €/m2",
         "0.4%",
         "-1.3%",
         "2.9%",
         "BILBAO"
        ],
        [
         "19",
         "01/07/23",
         "3.153 €/m2",
         "-0.6%",
         "-0.9%",
         "2.7%",
         "BILBAO"
        ],
        [
         "20",
         "01/06/23",
         "3.171 €/m2",
         "-1.1%",
         "-0.1%",
         "3.7%",
         "BILBAO"
        ],
        [
         "21",
         "01/05/23",
         "3.204 €/m2",
         "0.7%",
         "0.8%",
         "4.5%",
         "BILBAO"
        ],
        [
         "22",
         "01/04/23",
         "3.183 €/m2",
         "0.3%",
         "-0.1%",
         "3.6%",
         "BILBAO"
        ],
        [
         "23",
         "01/03/23",
         "3.174 €/m2",
         "-0.2%",
         "0.2%",
         "2.7%",
         "BILBAO"
        ],
        [
         "24",
         "01/02/23",
         "3.179 €/m2",
         "-0.3%",
         "0.9%",
         "3.1%",
         "BILBAO"
        ],
        [
         "25",
         "01/01/23",
         "3.187 €/m2",
         "0.7%",
         "1.5%",
         "3.8%",
         "BILBAO"
        ],
        [
         "26",
         "01/12/22",
         "3.166 €/m2",
         "0.5%",
         "2.5%",
         "4.5%",
         "BILBAO"
        ],
        [
         "27",
         "01/11/22",
         "3.151 €/m2",
         "0.4%",
         "2.5%",
         "4.7%",
         "BILBAO"
        ],
        [
         "28",
         "01/10/22",
         "3.139 €/m2",
         "1.6%",
         "2.3%",
         "5,00%",
         "BILBAO"
        ],
        [
         "29",
         "01/09/22",
         "3.090 €/m2",
         "0.5%",
         "1.1%",
         "3.6%",
         "BILBAO"
        ],
        [
         "30",
         "01/08/22",
         "3.076 €/m2",
         "0.2%",
         "0.3%",
         "4,00%",
         "BILBAO"
        ],
        [
         "31",
         "01/07/22",
         "3.069 €/m2",
         "0.4%",
         "-0.1%",
         "2.6%",
         "BILBAO"
        ],
        [
         "32",
         "01/06/22",
         "3.057 €/m2",
         "-0.3%",
         "-1.1%",
         "2.8%",
         "BILBAO"
        ],
        [
         "33",
         "01/05/22",
         "3.065 €/m2",
         "-0.2%",
         "-0.6%",
         "3,00%",
         "BILBAO"
        ],
        [
         "34",
         "01/04/22",
         "3.071 €/m2",
         "-0.6%",
         "0,00%",
         "2.9%",
         "BILBAO"
        ],
        [
         "35",
         "01/03/22",
         "3.090 €/m2",
         "0.2%",
         "2,00%",
         "2.8%",
         "BILBAO"
        ],
        [
         "36",
         "01/02/22",
         "3.084 €/m2",
         "0.4%",
         "2.5%",
         "2,00%",
         "BILBAO"
        ],
        [
         "37",
         "01/01/22",
         "3.072 €/m2",
         "1.4%",
         "2.7%",
         "1.7%",
         "BILBAO"
        ],
        [
         "38",
         "01/12/21",
         "3.031 €/m2",
         "0.7%",
         "1.6%",
         "0.5%",
         "BILBAO"
        ],
        [
         "39",
         "01/11/21",
         "3.010 €/m2",
         "0.7%",
         "1.8%",
         "-0.3%",
         "BILBAO"
        ],
        [
         "40",
         "01/10/21",
         "2.990 €/m2",
         "0.3%",
         "0,00%",
         "-1.4%",
         "BILBAO"
        ],
        [
         "41",
         "01/09/21",
         "2.982 €/m2",
         "0.8%",
         "0.2%",
         "-1.1%",
         "BILBAO"
        ],
        [
         "42",
         "01/08/21",
         "2.957 €/m2",
         "-1.1%",
         "-0.7%",
         "-1.1%",
         "BILBAO"
        ],
        [
         "43",
         "01/07/21",
         "2.990 €/m2",
         "0.5%",
         "0.2%",
         "0,00%",
         "BILBAO"
        ],
        [
         "44",
         "01/06/21",
         "2.974 €/m2",
         "-0.1%",
         "-1.1%",
         "-1.2%",
         "BILBAO"
        ],
        [
         "45",
         "01/05/21",
         "2.977 €/m2",
         "-0.2%",
         "-1.5%",
         "-0.1%",
         "BILBAO"
        ],
        [
         "46",
         "01/04/21",
         "2.984 €/m2",
         "-0.8%",
         "-1.2%",
         "1,00%",
         "BILBAO"
        ],
        [
         "47",
         "01/03/21",
         "3.007 €/m2",
         "-0.5%",
         "-0.3%",
         "3.1%",
         "BILBAO"
        ],
        [
         "48",
         "01/02/21",
         "3.023 €/m2",
         "0.1%",
         "0.2%",
         "5.2%",
         "BILBAO"
        ],
        [
         "49",
         "01/01/21",
         "3.019 €/m2",
         "0.1%",
         "-0.4%",
         "5.2%",
         "BILBAO"
        ]
       ],
       "shape": {
        "columns": 6,
        "rows": 2530
       }
      },
      "text/html": [
       "<div>\n",
       "<style scoped>\n",
       "    .dataframe tbody tr th:only-of-type {\n",
       "        vertical-align: middle;\n",
       "    }\n",
       "\n",
       "    .dataframe tbody tr th {\n",
       "        vertical-align: top;\n",
       "    }\n",
       "\n",
       "    .dataframe thead th {\n",
       "        text-align: right;\n",
       "    }\n",
       "</style>\n",
       "<table border=\"1\" class=\"dataframe\">\n",
       "  <thead>\n",
       "    <tr style=\"text-align: right;\">\n",
       "      <th></th>\n",
       "      <th>Mes</th>\n",
       "      <th>Precio m2</th>\n",
       "      <th>Variación mensual</th>\n",
       "      <th>Variación trimestral</th>\n",
       "      <th>Variación anual</th>\n",
       "      <th>Distrito</th>\n",
       "    </tr>\n",
       "  </thead>\n",
       "  <tbody>\n",
       "    <tr>\n",
       "      <th>0</th>\n",
       "      <td>01/02/25</td>\n",
       "      <td>3.524 €/m2</td>\n",
       "      <td>1.1%</td>\n",
       "      <td>3.2%</td>\n",
       "      <td>7.6%</td>\n",
       "      <td>BILBAO</td>\n",
       "    </tr>\n",
       "    <tr>\n",
       "      <th>1</th>\n",
       "      <td>01/01/25</td>\n",
       "      <td>3.485 €/m2</td>\n",
       "      <td>-0.2%</td>\n",
       "      <td>3.1%</td>\n",
       "      <td>6.8%</td>\n",
       "      <td>BILBAO</td>\n",
       "    </tr>\n",
       "    <tr>\n",
       "      <th>2</th>\n",
       "      <td>01/12/24</td>\n",
       "      <td>3.491 €/m2</td>\n",
       "      <td>2.2%</td>\n",
       "      <td>3.1%</td>\n",
       "      <td>7.7%</td>\n",
       "      <td>BILBAO</td>\n",
       "    </tr>\n",
       "    <tr>\n",
       "      <th>3</th>\n",
       "      <td>01/11/24</td>\n",
       "      <td>3.417 €/m2</td>\n",
       "      <td>1.1%</td>\n",
       "      <td>1,00%</td>\n",
       "      <td>6.2%</td>\n",
       "      <td>BILBAO</td>\n",
       "    </tr>\n",
       "    <tr>\n",
       "      <th>4</th>\n",
       "      <td>01/10/24</td>\n",
       "      <td>3.381 €/m2</td>\n",
       "      <td>-0.1%</td>\n",
       "      <td>0.9%</td>\n",
       "      <td>5.9%</td>\n",
       "      <td>BILBAO</td>\n",
       "    </tr>\n",
       "    <tr>\n",
       "      <th>...</th>\n",
       "      <td>...</td>\n",
       "      <td>...</td>\n",
       "      <td>...</td>\n",
       "      <td>...</td>\n",
       "      <td>...</td>\n",
       "      <td>...</td>\n",
       "    </tr>\n",
       "    <tr>\n",
       "      <th>2525</th>\n",
       "      <td>01/05/06</td>\n",
       "      <td>n.d.</td>\n",
       "      <td>n.d.</td>\n",
       "      <td>n.d.</td>\n",
       "      <td>n.d.</td>\n",
       "      <td>Uribarri</td>\n",
       "    </tr>\n",
       "    <tr>\n",
       "      <th>2526</th>\n",
       "      <td>01/04/06</td>\n",
       "      <td>n.d.</td>\n",
       "      <td>n.d.</td>\n",
       "      <td>n.d.</td>\n",
       "      <td>n.d.</td>\n",
       "      <td>Uribarri</td>\n",
       "    </tr>\n",
       "    <tr>\n",
       "      <th>2527</th>\n",
       "      <td>01/03/06</td>\n",
       "      <td>n.d.</td>\n",
       "      <td>n.d.</td>\n",
       "      <td>n.d.</td>\n",
       "      <td>n.d.</td>\n",
       "      <td>Uribarri</td>\n",
       "    </tr>\n",
       "    <tr>\n",
       "      <th>2528</th>\n",
       "      <td>01/02/06</td>\n",
       "      <td>n.d.</td>\n",
       "      <td>n.d.</td>\n",
       "      <td>n.d.</td>\n",
       "      <td>n.d.</td>\n",
       "      <td>Uribarri</td>\n",
       "    </tr>\n",
       "    <tr>\n",
       "      <th>2529</th>\n",
       "      <td>01/01/06</td>\n",
       "      <td>n.d.</td>\n",
       "      <td>n.d.</td>\n",
       "      <td>n.d.</td>\n",
       "      <td>n.d.</td>\n",
       "      <td>Uribarri</td>\n",
       "    </tr>\n",
       "  </tbody>\n",
       "</table>\n",
       "<p>2530 rows × 6 columns</p>\n",
       "</div>"
      ],
      "text/plain": [
       "           Mes   Precio m2 Variación mensual Variación trimestral  \\\n",
       "0     01/02/25  3.524 €/m2              1.1%                 3.2%   \n",
       "1     01/01/25  3.485 €/m2             -0.2%                 3.1%   \n",
       "2     01/12/24  3.491 €/m2              2.2%                 3.1%   \n",
       "3     01/11/24  3.417 €/m2              1.1%                1,00%   \n",
       "4     01/10/24  3.381 €/m2             -0.1%                 0.9%   \n",
       "...        ...         ...               ...                  ...   \n",
       "2525  01/05/06        n.d.              n.d.                 n.d.   \n",
       "2526  01/04/06        n.d.              n.d.                 n.d.   \n",
       "2527  01/03/06        n.d.              n.d.                 n.d.   \n",
       "2528  01/02/06        n.d.              n.d.                 n.d.   \n",
       "2529  01/01/06        n.d.              n.d.                 n.d.   \n",
       "\n",
       "     Variación anual  Distrito  \n",
       "0               7.6%    BILBAO  \n",
       "1               6.8%    BILBAO  \n",
       "2               7.7%    BILBAO  \n",
       "3               6.2%    BILBAO  \n",
       "4               5.9%    BILBAO  \n",
       "...              ...       ...  \n",
       "2525            n.d.  Uribarri  \n",
       "2526            n.d.  Uribarri  \n",
       "2527            n.d.  Uribarri  \n",
       "2528            n.d.  Uribarri  \n",
       "2529            n.d.  Uribarri  \n",
       "\n",
       "[2530 rows x 6 columns]"
      ]
     },
     "execution_count": 17,
     "metadata": {},
     "output_type": "execute_result"
    }
   ],
   "source": [
    "comp = comp_bilbo\n",
    "for i in compra:\n",
    "    comp = pd.concat([comp,i],ignore_index=True)\n",
    "comp"
   ]
  },
  {
   "cell_type": "code",
   "execution_count": 18,
   "metadata": {},
   "outputs": [
    {
     "name": "stdout",
     "output_type": "stream",
     "text": [
      "<class 'pandas.core.frame.DataFrame'>\n",
      "RangeIndex: 2530 entries, 0 to 2529\n",
      "Data columns (total 6 columns):\n",
      " #   Column                Non-Null Count  Dtype \n",
      "---  ------                --------------  ----- \n",
      " 0   Mes                   2530 non-null   object\n",
      " 1   Precio m2             2530 non-null   object\n",
      " 2   Variación mensual     2530 non-null   object\n",
      " 3   Variación trimestral  2530 non-null   object\n",
      " 4   Variación anual       2530 non-null   object\n",
      " 5   Distrito              2530 non-null   object\n",
      "dtypes: object(6)\n",
      "memory usage: 118.7+ KB\n"
     ]
    }
   ],
   "source": [
    "comp.info()"
   ]
  },
  {
   "cell_type": "code",
   "execution_count": 19,
   "metadata": {},
   "outputs": [
    {
     "data": {
      "application/vnd.microsoft.datawrangler.viewer.v0+json": {
       "columns": [
        {
         "name": "index",
         "rawType": "int64",
         "type": "integer"
        },
        {
         "name": "Mes",
         "rawType": "object",
         "type": "string"
        },
        {
         "name": "Precio m2",
         "rawType": "object",
         "type": "string"
        },
        {
         "name": "Variación mensual",
         "rawType": "object",
         "type": "string"
        },
        {
         "name": "Variación trimestral",
         "rawType": "object",
         "type": "string"
        },
        {
         "name": "Variación anual",
         "rawType": "object",
         "type": "string"
        },
        {
         "name": "Distrito",
         "rawType": "object",
         "type": "string"
        }
       ],
       "conversionMethod": "pd.DataFrame",
       "ref": "4cbc1ff6-a20e-4bf3-8a54-e972afe9ee03",
       "rows": [
        [
         "0",
         "01/02/25",
         "3.524 €/m2",
         "1.1%",
         "3.2%",
         "7.6%",
         "BILBAO"
        ],
        [
         "1",
         "01/01/25",
         "3.485 €/m2",
         "-0.2%",
         "3.1%",
         "6.8%",
         "BILBAO"
        ],
        [
         "2",
         "01/12/24",
         "3.491 €/m2",
         "2.2%",
         "3.1%",
         "7.7%",
         "BILBAO"
        ],
        [
         "3",
         "01/11/24",
         "3.417 €/m2",
         "1.1%",
         "1,00%",
         "6.2%",
         "BILBAO"
        ],
        [
         "4",
         "01/10/24",
         "3.381 €/m2",
         "-0.1%",
         "0.9%",
         "5.9%",
         "BILBAO"
        ],
        [
         "5",
         "01/09/24",
         "3.384 €/m2",
         "0,00%",
         "2.5%",
         "6.1%",
         "BILBAO"
        ],
        [
         "6",
         "01/08/24",
         "3.383 €/m2",
         "1,00%",
         "2.7%",
         "6.9%",
         "BILBAO"
        ],
        [
         "7",
         "01/07/24",
         "3.350 €/m2",
         "1.5%",
         "1.9%",
         "6.3%",
         "BILBAO"
        ],
        [
         "8",
         "01/06/24",
         "3.301 €/m2",
         "0.2%",
         "0.3%",
         "4.1%",
         "BILBAO"
        ],
        [
         "9",
         "01/05/24",
         "3.293 €/m2",
         "0.1%",
         "0.5%",
         "2.8%",
         "BILBAO"
        ],
        [
         "10",
         "01/04/24",
         "3.290 €/m2",
         "-0.1%",
         "0.8%",
         "3.4%",
         "BILBAO"
        ],
        [
         "11",
         "01/03/24",
         "3.292 €/m2",
         "0.5%",
         "1.6%",
         "3.7%",
         "BILBAO"
        ],
        [
         "12",
         "01/02/24",
         "3.277 €/m2",
         "0.4%",
         "1.9%",
         "3.1%",
         "BILBAO"
        ],
        [
         "13",
         "01/01/24",
         "3.264 €/m2",
         "0.7%",
         "2.2%",
         "2.4%",
         "BILBAO"
        ],
        [
         "14",
         "01/12/23",
         "3.241 €/m2",
         "0.7%",
         "1.6%",
         "2.3%",
         "BILBAO"
        ],
        [
         "15",
         "01/11/23",
         "3.217 €/m2",
         "0.8%",
         "1.7%",
         "2.1%",
         "BILBAO"
        ],
        [
         "16",
         "01/10/23",
         "3.193 €/m2",
         "0.1%",
         "1.3%",
         "1.7%",
         "BILBAO"
        ],
        [
         "17",
         "01/09/23",
         "3.191 €/m2",
         "0.8%",
         "0.6%",
         "3.3%",
         "BILBAO"
        ],
        [
         "18",
         "01/08/23",
         "3.164 €/m2",
         "0.4%",
         "-1.3%",
         "2.9%",
         "BILBAO"
        ],
        [
         "19",
         "01/07/23",
         "3.153 €/m2",
         "-0.6%",
         "-0.9%",
         "2.7%",
         "BILBAO"
        ],
        [
         "20",
         "01/06/23",
         "3.171 €/m2",
         "-1.1%",
         "-0.1%",
         "3.7%",
         "BILBAO"
        ],
        [
         "21",
         "01/05/23",
         "3.204 €/m2",
         "0.7%",
         "0.8%",
         "4.5%",
         "BILBAO"
        ],
        [
         "22",
         "01/04/23",
         "3.183 €/m2",
         "0.3%",
         "-0.1%",
         "3.6%",
         "BILBAO"
        ],
        [
         "23",
         "01/03/23",
         "3.174 €/m2",
         "-0.2%",
         "0.2%",
         "2.7%",
         "BILBAO"
        ],
        [
         "24",
         "01/02/23",
         "3.179 €/m2",
         "-0.3%",
         "0.9%",
         "3.1%",
         "BILBAO"
        ],
        [
         "25",
         "01/01/23",
         "3.187 €/m2",
         "0.7%",
         "1.5%",
         "3.8%",
         "BILBAO"
        ],
        [
         "26",
         "01/12/22",
         "3.166 €/m2",
         "0.5%",
         "2.5%",
         "4.5%",
         "BILBAO"
        ],
        [
         "27",
         "01/11/22",
         "3.151 €/m2",
         "0.4%",
         "2.5%",
         "4.7%",
         "BILBAO"
        ],
        [
         "28",
         "01/10/22",
         "3.139 €/m2",
         "1.6%",
         "2.3%",
         "5,00%",
         "BILBAO"
        ],
        [
         "29",
         "01/09/22",
         "3.090 €/m2",
         "0.5%",
         "1.1%",
         "3.6%",
         "BILBAO"
        ],
        [
         "30",
         "01/08/22",
         "3.076 €/m2",
         "0.2%",
         "0.3%",
         "4,00%",
         "BILBAO"
        ],
        [
         "31",
         "01/07/22",
         "3.069 €/m2",
         "0.4%",
         "-0.1%",
         "2.6%",
         "BILBAO"
        ],
        [
         "32",
         "01/06/22",
         "3.057 €/m2",
         "-0.3%",
         "-1.1%",
         "2.8%",
         "BILBAO"
        ],
        [
         "33",
         "01/05/22",
         "3.065 €/m2",
         "-0.2%",
         "-0.6%",
         "3,00%",
         "BILBAO"
        ],
        [
         "34",
         "01/04/22",
         "3.071 €/m2",
         "-0.6%",
         "0,00%",
         "2.9%",
         "BILBAO"
        ],
        [
         "35",
         "01/03/22",
         "3.090 €/m2",
         "0.2%",
         "2,00%",
         "2.8%",
         "BILBAO"
        ],
        [
         "36",
         "01/02/22",
         "3.084 €/m2",
         "0.4%",
         "2.5%",
         "2,00%",
         "BILBAO"
        ],
        [
         "37",
         "01/01/22",
         "3.072 €/m2",
         "1.4%",
         "2.7%",
         "1.7%",
         "BILBAO"
        ],
        [
         "38",
         "01/12/21",
         "3.031 €/m2",
         "0.7%",
         "1.6%",
         "0.5%",
         "BILBAO"
        ],
        [
         "39",
         "01/11/21",
         "3.010 €/m2",
         "0.7%",
         "1.8%",
         "-0.3%",
         "BILBAO"
        ],
        [
         "40",
         "01/10/21",
         "2.990 €/m2",
         "0.3%",
         "0,00%",
         "-1.4%",
         "BILBAO"
        ],
        [
         "41",
         "01/09/21",
         "2.982 €/m2",
         "0.8%",
         "0.2%",
         "-1.1%",
         "BILBAO"
        ],
        [
         "42",
         "01/08/21",
         "2.957 €/m2",
         "-1.1%",
         "-0.7%",
         "-1.1%",
         "BILBAO"
        ],
        [
         "43",
         "01/07/21",
         "2.990 €/m2",
         "0.5%",
         "0.2%",
         "0,00%",
         "BILBAO"
        ],
        [
         "44",
         "01/06/21",
         "2.974 €/m2",
         "-0.1%",
         "-1.1%",
         "-1.2%",
         "BILBAO"
        ],
        [
         "45",
         "01/05/21",
         "2.977 €/m2",
         "-0.2%",
         "-1.5%",
         "-0.1%",
         "BILBAO"
        ],
        [
         "46",
         "01/04/21",
         "2.984 €/m2",
         "-0.8%",
         "-1.2%",
         "1,00%",
         "BILBAO"
        ],
        [
         "47",
         "01/03/21",
         "3.007 €/m2",
         "-0.5%",
         "-0.3%",
         "3.1%",
         "BILBAO"
        ],
        [
         "48",
         "01/02/21",
         "3.023 €/m2",
         "0.1%",
         "0.2%",
         "5.2%",
         "BILBAO"
        ],
        [
         "49",
         "01/01/21",
         "3.019 €/m2",
         "0.1%",
         "-0.4%",
         "5.2%",
         "BILBAO"
        ]
       ],
       "shape": {
        "columns": 6,
        "rows": 1987
       }
      },
      "text/html": [
       "<div>\n",
       "<style scoped>\n",
       "    .dataframe tbody tr th:only-of-type {\n",
       "        vertical-align: middle;\n",
       "    }\n",
       "\n",
       "    .dataframe tbody tr th {\n",
       "        vertical-align: top;\n",
       "    }\n",
       "\n",
       "    .dataframe thead th {\n",
       "        text-align: right;\n",
       "    }\n",
       "</style>\n",
       "<table border=\"1\" class=\"dataframe\">\n",
       "  <thead>\n",
       "    <tr style=\"text-align: right;\">\n",
       "      <th></th>\n",
       "      <th>Mes</th>\n",
       "      <th>Precio m2</th>\n",
       "      <th>Variación mensual</th>\n",
       "      <th>Variación trimestral</th>\n",
       "      <th>Variación anual</th>\n",
       "      <th>Distrito</th>\n",
       "    </tr>\n",
       "  </thead>\n",
       "  <tbody>\n",
       "    <tr>\n",
       "      <th>0</th>\n",
       "      <td>01/02/25</td>\n",
       "      <td>3.524 €/m2</td>\n",
       "      <td>1.1%</td>\n",
       "      <td>3.2%</td>\n",
       "      <td>7.6%</td>\n",
       "      <td>BILBAO</td>\n",
       "    </tr>\n",
       "    <tr>\n",
       "      <th>1</th>\n",
       "      <td>01/01/25</td>\n",
       "      <td>3.485 €/m2</td>\n",
       "      <td>-0.2%</td>\n",
       "      <td>3.1%</td>\n",
       "      <td>6.8%</td>\n",
       "      <td>BILBAO</td>\n",
       "    </tr>\n",
       "    <tr>\n",
       "      <th>2</th>\n",
       "      <td>01/12/24</td>\n",
       "      <td>3.491 €/m2</td>\n",
       "      <td>2.2%</td>\n",
       "      <td>3.1%</td>\n",
       "      <td>7.7%</td>\n",
       "      <td>BILBAO</td>\n",
       "    </tr>\n",
       "    <tr>\n",
       "      <th>3</th>\n",
       "      <td>01/11/24</td>\n",
       "      <td>3.417 €/m2</td>\n",
       "      <td>1.1%</td>\n",
       "      <td>1,00%</td>\n",
       "      <td>6.2%</td>\n",
       "      <td>BILBAO</td>\n",
       "    </tr>\n",
       "    <tr>\n",
       "      <th>4</th>\n",
       "      <td>01/10/24</td>\n",
       "      <td>3.381 €/m2</td>\n",
       "      <td>-0.1%</td>\n",
       "      <td>0.9%</td>\n",
       "      <td>5.9%</td>\n",
       "      <td>BILBAO</td>\n",
       "    </tr>\n",
       "    <tr>\n",
       "      <th>...</th>\n",
       "      <td>...</td>\n",
       "      <td>...</td>\n",
       "      <td>...</td>\n",
       "      <td>...</td>\n",
       "      <td>...</td>\n",
       "      <td>...</td>\n",
       "    </tr>\n",
       "    <tr>\n",
       "      <th>2474</th>\n",
       "      <td>01/08/10</td>\n",
       "      <td>3.314 €/m2</td>\n",
       "      <td>1.2%</td>\n",
       "      <td>2,00%</td>\n",
       "      <td>n.d.</td>\n",
       "      <td>Uribarri</td>\n",
       "    </tr>\n",
       "    <tr>\n",
       "      <th>2475</th>\n",
       "      <td>01/07/10</td>\n",
       "      <td>3.276 €/m2</td>\n",
       "      <td>3.7%</td>\n",
       "      <td>3.6%</td>\n",
       "      <td>n.d.</td>\n",
       "      <td>Uribarri</td>\n",
       "    </tr>\n",
       "    <tr>\n",
       "      <th>2476</th>\n",
       "      <td>01/06/10</td>\n",
       "      <td>3.158 €/m2</td>\n",
       "      <td>-2.8%</td>\n",
       "      <td>n.d.</td>\n",
       "      <td>n.d.</td>\n",
       "      <td>Uribarri</td>\n",
       "    </tr>\n",
       "    <tr>\n",
       "      <th>2477</th>\n",
       "      <td>01/05/10</td>\n",
       "      <td>3.250 €/m2</td>\n",
       "      <td>2.7%</td>\n",
       "      <td>n.d.</td>\n",
       "      <td>n.d.</td>\n",
       "      <td>Uribarri</td>\n",
       "    </tr>\n",
       "    <tr>\n",
       "      <th>2478</th>\n",
       "      <td>01/04/10</td>\n",
       "      <td>3.163 €/m2</td>\n",
       "      <td>n.d.</td>\n",
       "      <td>n.d.</td>\n",
       "      <td>n.d.</td>\n",
       "      <td>Uribarri</td>\n",
       "    </tr>\n",
       "  </tbody>\n",
       "</table>\n",
       "<p>1987 rows × 6 columns</p>\n",
       "</div>"
      ],
      "text/plain": [
       "           Mes   Precio m2 Variación mensual Variación trimestral  \\\n",
       "0     01/02/25  3.524 €/m2              1.1%                 3.2%   \n",
       "1     01/01/25  3.485 €/m2             -0.2%                 3.1%   \n",
       "2     01/12/24  3.491 €/m2              2.2%                 3.1%   \n",
       "3     01/11/24  3.417 €/m2              1.1%                1,00%   \n",
       "4     01/10/24  3.381 €/m2             -0.1%                 0.9%   \n",
       "...        ...         ...               ...                  ...   \n",
       "2474  01/08/10  3.314 €/m2              1.2%                2,00%   \n",
       "2475  01/07/10  3.276 €/m2              3.7%                 3.6%   \n",
       "2476  01/06/10  3.158 €/m2             -2.8%                 n.d.   \n",
       "2477  01/05/10  3.250 €/m2              2.7%                 n.d.   \n",
       "2478  01/04/10  3.163 €/m2              n.d.                 n.d.   \n",
       "\n",
       "     Variación anual  Distrito  \n",
       "0               7.6%    BILBAO  \n",
       "1               6.8%    BILBAO  \n",
       "2               7.7%    BILBAO  \n",
       "3               6.2%    BILBAO  \n",
       "4               5.9%    BILBAO  \n",
       "...              ...       ...  \n",
       "2474            n.d.  Uribarri  \n",
       "2475            n.d.  Uribarri  \n",
       "2476            n.d.  Uribarri  \n",
       "2477            n.d.  Uribarri  \n",
       "2478            n.d.  Uribarri  \n",
       "\n",
       "[1987 rows x 6 columns]"
      ]
     },
     "execution_count": 19,
     "metadata": {},
     "output_type": "execute_result"
    }
   ],
   "source": [
    "comp = comp.drop(comp[comp[\"Precio m2\"] == \"n.d.\"].index)\n",
    "comp"
   ]
  },
  {
   "cell_type": "code",
   "execution_count": 20,
   "metadata": {},
   "outputs": [
    {
     "data": {
      "application/vnd.microsoft.datawrangler.viewer.v0+json": {
       "columns": [
        {
         "name": "index",
         "rawType": "int64",
         "type": "integer"
        },
        {
         "name": "Mes",
         "rawType": "object",
         "type": "string"
        },
        {
         "name": "Precio m2",
         "rawType": "object",
         "type": "string"
        },
        {
         "name": "Variación mensual",
         "rawType": "object",
         "type": "string"
        },
        {
         "name": "Variación trimestral",
         "rawType": "object",
         "type": "string"
        },
        {
         "name": "Variación anual",
         "rawType": "object",
         "type": "string"
        },
        {
         "name": "Distrito",
         "rawType": "object",
         "type": "string"
        }
       ],
       "conversionMethod": "pd.DataFrame",
       "ref": "670f9c61-d457-460d-9e56-677adb921004",
       "rows": [
        [
         "2474",
         "01/08/10",
         "3.314 €/m2",
         "1.2%",
         "2,00%",
         "n.d.",
         "Uribarri"
        ],
        [
         "2475",
         "01/07/10",
         "3.276 €/m2",
         "3.7%",
         "3.6%",
         "n.d.",
         "Uribarri"
        ],
        [
         "2476",
         "01/06/10",
         "3.158 €/m2",
         "-2.8%",
         "n.d.",
         "n.d.",
         "Uribarri"
        ],
        [
         "2477",
         "01/05/10",
         "3.250 €/m2",
         "2.7%",
         "n.d.",
         "n.d.",
         "Uribarri"
        ],
        [
         "2478",
         "01/04/10",
         "3.163 €/m2",
         "n.d.",
         "n.d.",
         "n.d.",
         "Uribarri"
        ]
       ],
       "shape": {
        "columns": 6,
        "rows": 5
       }
      },
      "text/html": [
       "<div>\n",
       "<style scoped>\n",
       "    .dataframe tbody tr th:only-of-type {\n",
       "        vertical-align: middle;\n",
       "    }\n",
       "\n",
       "    .dataframe tbody tr th {\n",
       "        vertical-align: top;\n",
       "    }\n",
       "\n",
       "    .dataframe thead th {\n",
       "        text-align: right;\n",
       "    }\n",
       "</style>\n",
       "<table border=\"1\" class=\"dataframe\">\n",
       "  <thead>\n",
       "    <tr style=\"text-align: right;\">\n",
       "      <th></th>\n",
       "      <th>Mes</th>\n",
       "      <th>Precio m2</th>\n",
       "      <th>Variación mensual</th>\n",
       "      <th>Variación trimestral</th>\n",
       "      <th>Variación anual</th>\n",
       "      <th>Distrito</th>\n",
       "    </tr>\n",
       "  </thead>\n",
       "  <tbody>\n",
       "    <tr>\n",
       "      <th>2474</th>\n",
       "      <td>01/08/10</td>\n",
       "      <td>3.314 €/m2</td>\n",
       "      <td>1.2%</td>\n",
       "      <td>2,00%</td>\n",
       "      <td>n.d.</td>\n",
       "      <td>Uribarri</td>\n",
       "    </tr>\n",
       "    <tr>\n",
       "      <th>2475</th>\n",
       "      <td>01/07/10</td>\n",
       "      <td>3.276 €/m2</td>\n",
       "      <td>3.7%</td>\n",
       "      <td>3.6%</td>\n",
       "      <td>n.d.</td>\n",
       "      <td>Uribarri</td>\n",
       "    </tr>\n",
       "    <tr>\n",
       "      <th>2476</th>\n",
       "      <td>01/06/10</td>\n",
       "      <td>3.158 €/m2</td>\n",
       "      <td>-2.8%</td>\n",
       "      <td>n.d.</td>\n",
       "      <td>n.d.</td>\n",
       "      <td>Uribarri</td>\n",
       "    </tr>\n",
       "    <tr>\n",
       "      <th>2477</th>\n",
       "      <td>01/05/10</td>\n",
       "      <td>3.250 €/m2</td>\n",
       "      <td>2.7%</td>\n",
       "      <td>n.d.</td>\n",
       "      <td>n.d.</td>\n",
       "      <td>Uribarri</td>\n",
       "    </tr>\n",
       "    <tr>\n",
       "      <th>2478</th>\n",
       "      <td>01/04/10</td>\n",
       "      <td>3.163 €/m2</td>\n",
       "      <td>n.d.</td>\n",
       "      <td>n.d.</td>\n",
       "      <td>n.d.</td>\n",
       "      <td>Uribarri</td>\n",
       "    </tr>\n",
       "  </tbody>\n",
       "</table>\n",
       "</div>"
      ],
      "text/plain": [
       "           Mes   Precio m2 Variación mensual Variación trimestral  \\\n",
       "2474  01/08/10  3.314 €/m2              1.2%                2,00%   \n",
       "2475  01/07/10  3.276 €/m2              3.7%                 3.6%   \n",
       "2476  01/06/10  3.158 €/m2             -2.8%                 n.d.   \n",
       "2477  01/05/10  3.250 €/m2              2.7%                 n.d.   \n",
       "2478  01/04/10  3.163 €/m2              n.d.                 n.d.   \n",
       "\n",
       "     Variación anual  Distrito  \n",
       "2474            n.d.  Uribarri  \n",
       "2475            n.d.  Uribarri  \n",
       "2476            n.d.  Uribarri  \n",
       "2477            n.d.  Uribarri  \n",
       "2478            n.d.  Uribarri  "
      ]
     },
     "execution_count": 20,
     "metadata": {},
     "output_type": "execute_result"
    }
   ],
   "source": [
    "comp.tail()"
   ]
  },
  {
   "cell_type": "code",
   "execution_count": 21,
   "metadata": {},
   "outputs": [
    {
     "data": {
      "application/vnd.microsoft.datawrangler.viewer.v0+json": {
       "columns": [
        {
         "name": "index",
         "rawType": "int64",
         "type": "integer"
        },
        {
         "name": "Mes",
         "rawType": "object",
         "type": "string"
        },
        {
         "name": "Precio m2",
         "rawType": "float64",
         "type": "float"
        },
        {
         "name": "Variación mensual",
         "rawType": "object",
         "type": "string"
        },
        {
         "name": "Variación trimestral",
         "rawType": "object",
         "type": "string"
        },
        {
         "name": "Variación anual",
         "rawType": "object",
         "type": "string"
        },
        {
         "name": "Distrito",
         "rawType": "object",
         "type": "string"
        }
       ],
       "conversionMethod": "pd.DataFrame",
       "ref": "10a16624-dc08-492f-be54-bac6a36a3169",
       "rows": [
        [
         "0",
         "01/02/25",
         "3.524",
         "1.1%",
         "3.2%",
         "7.6%",
         "BILBAO"
        ],
        [
         "1",
         "01/01/25",
         "3.485",
         "-0.2%",
         "3.1%",
         "6.8%",
         "BILBAO"
        ],
        [
         "2",
         "01/12/24",
         "3.491",
         "2.2%",
         "3.1%",
         "7.7%",
         "BILBAO"
        ],
        [
         "3",
         "01/11/24",
         "3.417",
         "1.1%",
         "1,00%",
         "6.2%",
         "BILBAO"
        ],
        [
         "4",
         "01/10/24",
         "3.381",
         "-0.1%",
         "0.9%",
         "5.9%",
         "BILBAO"
        ],
        [
         "5",
         "01/09/24",
         "3.384",
         "0,00%",
         "2.5%",
         "6.1%",
         "BILBAO"
        ],
        [
         "6",
         "01/08/24",
         "3.383",
         "1,00%",
         "2.7%",
         "6.9%",
         "BILBAO"
        ],
        [
         "7",
         "01/07/24",
         "3.35",
         "1.5%",
         "1.9%",
         "6.3%",
         "BILBAO"
        ],
        [
         "8",
         "01/06/24",
         "3.301",
         "0.2%",
         "0.3%",
         "4.1%",
         "BILBAO"
        ],
        [
         "9",
         "01/05/24",
         "3.293",
         "0.1%",
         "0.5%",
         "2.8%",
         "BILBAO"
        ],
        [
         "10",
         "01/04/24",
         "3.29",
         "-0.1%",
         "0.8%",
         "3.4%",
         "BILBAO"
        ],
        [
         "11",
         "01/03/24",
         "3.292",
         "0.5%",
         "1.6%",
         "3.7%",
         "BILBAO"
        ],
        [
         "12",
         "01/02/24",
         "3.277",
         "0.4%",
         "1.9%",
         "3.1%",
         "BILBAO"
        ],
        [
         "13",
         "01/01/24",
         "3.264",
         "0.7%",
         "2.2%",
         "2.4%",
         "BILBAO"
        ],
        [
         "14",
         "01/12/23",
         "3.241",
         "0.7%",
         "1.6%",
         "2.3%",
         "BILBAO"
        ],
        [
         "15",
         "01/11/23",
         "3.217",
         "0.8%",
         "1.7%",
         "2.1%",
         "BILBAO"
        ],
        [
         "16",
         "01/10/23",
         "3.193",
         "0.1%",
         "1.3%",
         "1.7%",
         "BILBAO"
        ],
        [
         "17",
         "01/09/23",
         "3.191",
         "0.8%",
         "0.6%",
         "3.3%",
         "BILBAO"
        ],
        [
         "18",
         "01/08/23",
         "3.164",
         "0.4%",
         "-1.3%",
         "2.9%",
         "BILBAO"
        ],
        [
         "19",
         "01/07/23",
         "3.153",
         "-0.6%",
         "-0.9%",
         "2.7%",
         "BILBAO"
        ],
        [
         "20",
         "01/06/23",
         "3.171",
         "-1.1%",
         "-0.1%",
         "3.7%",
         "BILBAO"
        ],
        [
         "21",
         "01/05/23",
         "3.204",
         "0.7%",
         "0.8%",
         "4.5%",
         "BILBAO"
        ],
        [
         "22",
         "01/04/23",
         "3.183",
         "0.3%",
         "-0.1%",
         "3.6%",
         "BILBAO"
        ],
        [
         "23",
         "01/03/23",
         "3.174",
         "-0.2%",
         "0.2%",
         "2.7%",
         "BILBAO"
        ],
        [
         "24",
         "01/02/23",
         "3.179",
         "-0.3%",
         "0.9%",
         "3.1%",
         "BILBAO"
        ],
        [
         "25",
         "01/01/23",
         "3.187",
         "0.7%",
         "1.5%",
         "3.8%",
         "BILBAO"
        ],
        [
         "26",
         "01/12/22",
         "3.166",
         "0.5%",
         "2.5%",
         "4.5%",
         "BILBAO"
        ],
        [
         "27",
         "01/11/22",
         "3.151",
         "0.4%",
         "2.5%",
         "4.7%",
         "BILBAO"
        ],
        [
         "28",
         "01/10/22",
         "3.139",
         "1.6%",
         "2.3%",
         "5,00%",
         "BILBAO"
        ],
        [
         "29",
         "01/09/22",
         "3.09",
         "0.5%",
         "1.1%",
         "3.6%",
         "BILBAO"
        ],
        [
         "30",
         "01/08/22",
         "3.076",
         "0.2%",
         "0.3%",
         "4,00%",
         "BILBAO"
        ],
        [
         "31",
         "01/07/22",
         "3.069",
         "0.4%",
         "-0.1%",
         "2.6%",
         "BILBAO"
        ],
        [
         "32",
         "01/06/22",
         "3.057",
         "-0.3%",
         "-1.1%",
         "2.8%",
         "BILBAO"
        ],
        [
         "33",
         "01/05/22",
         "3.065",
         "-0.2%",
         "-0.6%",
         "3,00%",
         "BILBAO"
        ],
        [
         "34",
         "01/04/22",
         "3.071",
         "-0.6%",
         "0,00%",
         "2.9%",
         "BILBAO"
        ],
        [
         "35",
         "01/03/22",
         "3.09",
         "0.2%",
         "2,00%",
         "2.8%",
         "BILBAO"
        ],
        [
         "36",
         "01/02/22",
         "3.084",
         "0.4%",
         "2.5%",
         "2,00%",
         "BILBAO"
        ],
        [
         "37",
         "01/01/22",
         "3.072",
         "1.4%",
         "2.7%",
         "1.7%",
         "BILBAO"
        ],
        [
         "38",
         "01/12/21",
         "3.031",
         "0.7%",
         "1.6%",
         "0.5%",
         "BILBAO"
        ],
        [
         "39",
         "01/11/21",
         "3.01",
         "0.7%",
         "1.8%",
         "-0.3%",
         "BILBAO"
        ],
        [
         "40",
         "01/10/21",
         "2.99",
         "0.3%",
         "0,00%",
         "-1.4%",
         "BILBAO"
        ],
        [
         "41",
         "01/09/21",
         "2.982",
         "0.8%",
         "0.2%",
         "-1.1%",
         "BILBAO"
        ],
        [
         "42",
         "01/08/21",
         "2.957",
         "-1.1%",
         "-0.7%",
         "-1.1%",
         "BILBAO"
        ],
        [
         "43",
         "01/07/21",
         "2.99",
         "0.5%",
         "0.2%",
         "0,00%",
         "BILBAO"
        ],
        [
         "44",
         "01/06/21",
         "2.974",
         "-0.1%",
         "-1.1%",
         "-1.2%",
         "BILBAO"
        ],
        [
         "45",
         "01/05/21",
         "2.977",
         "-0.2%",
         "-1.5%",
         "-0.1%",
         "BILBAO"
        ],
        [
         "46",
         "01/04/21",
         "2.984",
         "-0.8%",
         "-1.2%",
         "1,00%",
         "BILBAO"
        ],
        [
         "47",
         "01/03/21",
         "3.007",
         "-0.5%",
         "-0.3%",
         "3.1%",
         "BILBAO"
        ],
        [
         "48",
         "01/02/21",
         "3.023",
         "0.1%",
         "0.2%",
         "5.2%",
         "BILBAO"
        ],
        [
         "49",
         "01/01/21",
         "3.019",
         "0.1%",
         "-0.4%",
         "5.2%",
         "BILBAO"
        ]
       ],
       "shape": {
        "columns": 6,
        "rows": 1987
       }
      },
      "text/html": [
       "<div>\n",
       "<style scoped>\n",
       "    .dataframe tbody tr th:only-of-type {\n",
       "        vertical-align: middle;\n",
       "    }\n",
       "\n",
       "    .dataframe tbody tr th {\n",
       "        vertical-align: top;\n",
       "    }\n",
       "\n",
       "    .dataframe thead th {\n",
       "        text-align: right;\n",
       "    }\n",
       "</style>\n",
       "<table border=\"1\" class=\"dataframe\">\n",
       "  <thead>\n",
       "    <tr style=\"text-align: right;\">\n",
       "      <th></th>\n",
       "      <th>Mes</th>\n",
       "      <th>Precio m2</th>\n",
       "      <th>Variación mensual</th>\n",
       "      <th>Variación trimestral</th>\n",
       "      <th>Variación anual</th>\n",
       "      <th>Distrito</th>\n",
       "    </tr>\n",
       "  </thead>\n",
       "  <tbody>\n",
       "    <tr>\n",
       "      <th>0</th>\n",
       "      <td>01/02/25</td>\n",
       "      <td>3.524</td>\n",
       "      <td>1.1%</td>\n",
       "      <td>3.2%</td>\n",
       "      <td>7.6%</td>\n",
       "      <td>BILBAO</td>\n",
       "    </tr>\n",
       "    <tr>\n",
       "      <th>1</th>\n",
       "      <td>01/01/25</td>\n",
       "      <td>3.485</td>\n",
       "      <td>-0.2%</td>\n",
       "      <td>3.1%</td>\n",
       "      <td>6.8%</td>\n",
       "      <td>BILBAO</td>\n",
       "    </tr>\n",
       "    <tr>\n",
       "      <th>2</th>\n",
       "      <td>01/12/24</td>\n",
       "      <td>3.491</td>\n",
       "      <td>2.2%</td>\n",
       "      <td>3.1%</td>\n",
       "      <td>7.7%</td>\n",
       "      <td>BILBAO</td>\n",
       "    </tr>\n",
       "    <tr>\n",
       "      <th>3</th>\n",
       "      <td>01/11/24</td>\n",
       "      <td>3.417</td>\n",
       "      <td>1.1%</td>\n",
       "      <td>1,00%</td>\n",
       "      <td>6.2%</td>\n",
       "      <td>BILBAO</td>\n",
       "    </tr>\n",
       "    <tr>\n",
       "      <th>4</th>\n",
       "      <td>01/10/24</td>\n",
       "      <td>3.381</td>\n",
       "      <td>-0.1%</td>\n",
       "      <td>0.9%</td>\n",
       "      <td>5.9%</td>\n",
       "      <td>BILBAO</td>\n",
       "    </tr>\n",
       "    <tr>\n",
       "      <th>...</th>\n",
       "      <td>...</td>\n",
       "      <td>...</td>\n",
       "      <td>...</td>\n",
       "      <td>...</td>\n",
       "      <td>...</td>\n",
       "      <td>...</td>\n",
       "    </tr>\n",
       "    <tr>\n",
       "      <th>2474</th>\n",
       "      <td>01/08/10</td>\n",
       "      <td>3.314</td>\n",
       "      <td>1.2%</td>\n",
       "      <td>2,00%</td>\n",
       "      <td>n.d.</td>\n",
       "      <td>Uribarri</td>\n",
       "    </tr>\n",
       "    <tr>\n",
       "      <th>2475</th>\n",
       "      <td>01/07/10</td>\n",
       "      <td>3.276</td>\n",
       "      <td>3.7%</td>\n",
       "      <td>3.6%</td>\n",
       "      <td>n.d.</td>\n",
       "      <td>Uribarri</td>\n",
       "    </tr>\n",
       "    <tr>\n",
       "      <th>2476</th>\n",
       "      <td>01/06/10</td>\n",
       "      <td>3.158</td>\n",
       "      <td>-2.8%</td>\n",
       "      <td>n.d.</td>\n",
       "      <td>n.d.</td>\n",
       "      <td>Uribarri</td>\n",
       "    </tr>\n",
       "    <tr>\n",
       "      <th>2477</th>\n",
       "      <td>01/05/10</td>\n",
       "      <td>3.250</td>\n",
       "      <td>2.7%</td>\n",
       "      <td>n.d.</td>\n",
       "      <td>n.d.</td>\n",
       "      <td>Uribarri</td>\n",
       "    </tr>\n",
       "    <tr>\n",
       "      <th>2478</th>\n",
       "      <td>01/04/10</td>\n",
       "      <td>3.163</td>\n",
       "      <td>n.d.</td>\n",
       "      <td>n.d.</td>\n",
       "      <td>n.d.</td>\n",
       "      <td>Uribarri</td>\n",
       "    </tr>\n",
       "  </tbody>\n",
       "</table>\n",
       "<p>1987 rows × 6 columns</p>\n",
       "</div>"
      ],
      "text/plain": [
       "           Mes  Precio m2 Variación mensual Variación trimestral  \\\n",
       "0     01/02/25      3.524              1.1%                 3.2%   \n",
       "1     01/01/25      3.485             -0.2%                 3.1%   \n",
       "2     01/12/24      3.491              2.2%                 3.1%   \n",
       "3     01/11/24      3.417              1.1%                1,00%   \n",
       "4     01/10/24      3.381             -0.1%                 0.9%   \n",
       "...        ...        ...               ...                  ...   \n",
       "2474  01/08/10      3.314              1.2%                2,00%   \n",
       "2475  01/07/10      3.276              3.7%                 3.6%   \n",
       "2476  01/06/10      3.158             -2.8%                 n.d.   \n",
       "2477  01/05/10      3.250              2.7%                 n.d.   \n",
       "2478  01/04/10      3.163              n.d.                 n.d.   \n",
       "\n",
       "     Variación anual  Distrito  \n",
       "0               7.6%    BILBAO  \n",
       "1               6.8%    BILBAO  \n",
       "2               7.7%    BILBAO  \n",
       "3               6.2%    BILBAO  \n",
       "4               5.9%    BILBAO  \n",
       "...              ...       ...  \n",
       "2474            n.d.  Uribarri  \n",
       "2475            n.d.  Uribarri  \n",
       "2476            n.d.  Uribarri  \n",
       "2477            n.d.  Uribarri  \n",
       "2478            n.d.  Uribarri  \n",
       "\n",
       "[1987 rows x 6 columns]"
      ]
     },
     "execution_count": 21,
     "metadata": {},
     "output_type": "execute_result"
    }
   ],
   "source": [
    "comp[\"Precio m2\"] = comp[\"Precio m2\"].str.replace(\" €/m2\",\"\")\n",
    "comp[\"Precio m2\"] = np.float64(comp[\"Precio m2\"])\n",
    "comp"
   ]
  },
  {
   "cell_type": "code",
   "execution_count": 22,
   "metadata": {},
   "outputs": [],
   "source": [
    "comp[\"Precio m2\"] = comp[\"Precio m2\"]*1000"
   ]
  },
  {
   "cell_type": "code",
   "execution_count": 23,
   "metadata": {},
   "outputs": [
    {
     "name": "stderr",
     "output_type": "stream",
     "text": [
      "C:\\Users\\pacof\\AppData\\Local\\Temp\\ipykernel_15928\\3268909756.py:1: UserWarning: Could not infer format, so each element will be parsed individually, falling back to `dateutil`. To ensure parsing is consistent and as-expected, please specify a format.\n",
      "  comp.loc[:,\"Mes\"] = pd.to_datetime(comp[\"Mes\"],dayfirst=True)\n"
     ]
    },
    {
     "data": {
      "application/vnd.microsoft.datawrangler.viewer.v0+json": {
       "columns": [
        {
         "name": "index",
         "rawType": "int64",
         "type": "integer"
        },
        {
         "name": "Mes",
         "rawType": "object",
         "type": "unknown"
        },
        {
         "name": "Precio m2",
         "rawType": "float64",
         "type": "float"
        },
        {
         "name": "Variación mensual",
         "rawType": "object",
         "type": "string"
        },
        {
         "name": "Variación trimestral",
         "rawType": "object",
         "type": "string"
        },
        {
         "name": "Variación anual",
         "rawType": "object",
         "type": "string"
        },
        {
         "name": "Distrito",
         "rawType": "object",
         "type": "string"
        }
       ],
       "conversionMethod": "pd.DataFrame",
       "ref": "2a0c0970-a642-4f71-b9bc-a9eb3363cba4",
       "rows": [
        [
         "0",
         "2025-02-01 00:00:00",
         "3524.0",
         "1.1%",
         "3.2%",
         "7.6%",
         "BILBAO"
        ],
        [
         "1",
         "2025-01-01 00:00:00",
         "3485.0",
         "-0.2%",
         "3.1%",
         "6.8%",
         "BILBAO"
        ],
        [
         "2",
         "2024-12-01 00:00:00",
         "3491.0",
         "2.2%",
         "3.1%",
         "7.7%",
         "BILBAO"
        ],
        [
         "3",
         "2024-11-01 00:00:00",
         "3417.0",
         "1.1%",
         "1,00%",
         "6.2%",
         "BILBAO"
        ],
        [
         "4",
         "2024-10-01 00:00:00",
         "3381.0",
         "-0.1%",
         "0.9%",
         "5.9%",
         "BILBAO"
        ],
        [
         "5",
         "2024-09-01 00:00:00",
         "3384.0",
         "0,00%",
         "2.5%",
         "6.1%",
         "BILBAO"
        ],
        [
         "6",
         "2024-08-01 00:00:00",
         "3383.0",
         "1,00%",
         "2.7%",
         "6.9%",
         "BILBAO"
        ],
        [
         "7",
         "2024-07-01 00:00:00",
         "3350.0",
         "1.5%",
         "1.9%",
         "6.3%",
         "BILBAO"
        ],
        [
         "8",
         "2024-06-01 00:00:00",
         "3301.0",
         "0.2%",
         "0.3%",
         "4.1%",
         "BILBAO"
        ],
        [
         "9",
         "2024-05-01 00:00:00",
         "3293.0",
         "0.1%",
         "0.5%",
         "2.8%",
         "BILBAO"
        ],
        [
         "10",
         "2024-04-01 00:00:00",
         "3290.0",
         "-0.1%",
         "0.8%",
         "3.4%",
         "BILBAO"
        ],
        [
         "11",
         "2024-03-01 00:00:00",
         "3292.0",
         "0.5%",
         "1.6%",
         "3.7%",
         "BILBAO"
        ],
        [
         "12",
         "2024-02-01 00:00:00",
         "3277.0",
         "0.4%",
         "1.9%",
         "3.1%",
         "BILBAO"
        ],
        [
         "13",
         "2024-01-01 00:00:00",
         "3264.0",
         "0.7%",
         "2.2%",
         "2.4%",
         "BILBAO"
        ],
        [
         "14",
         "2023-12-01 00:00:00",
         "3241.0",
         "0.7%",
         "1.6%",
         "2.3%",
         "BILBAO"
        ],
        [
         "15",
         "2023-11-01 00:00:00",
         "3217.0",
         "0.8%",
         "1.7%",
         "2.1%",
         "BILBAO"
        ],
        [
         "16",
         "2023-10-01 00:00:00",
         "3193.0",
         "0.1%",
         "1.3%",
         "1.7%",
         "BILBAO"
        ],
        [
         "17",
         "2023-09-01 00:00:00",
         "3191.0",
         "0.8%",
         "0.6%",
         "3.3%",
         "BILBAO"
        ],
        [
         "18",
         "2023-08-01 00:00:00",
         "3164.0",
         "0.4%",
         "-1.3%",
         "2.9%",
         "BILBAO"
        ],
        [
         "19",
         "2023-07-01 00:00:00",
         "3153.0",
         "-0.6%",
         "-0.9%",
         "2.7%",
         "BILBAO"
        ],
        [
         "20",
         "2023-06-01 00:00:00",
         "3171.0",
         "-1.1%",
         "-0.1%",
         "3.7%",
         "BILBAO"
        ],
        [
         "21",
         "2023-05-01 00:00:00",
         "3204.0",
         "0.7%",
         "0.8%",
         "4.5%",
         "BILBAO"
        ],
        [
         "22",
         "2023-04-01 00:00:00",
         "3183.0",
         "0.3%",
         "-0.1%",
         "3.6%",
         "BILBAO"
        ],
        [
         "23",
         "2023-03-01 00:00:00",
         "3174.0",
         "-0.2%",
         "0.2%",
         "2.7%",
         "BILBAO"
        ],
        [
         "24",
         "2023-02-01 00:00:00",
         "3179.0",
         "-0.3%",
         "0.9%",
         "3.1%",
         "BILBAO"
        ],
        [
         "25",
         "2023-01-01 00:00:00",
         "3187.0",
         "0.7%",
         "1.5%",
         "3.8%",
         "BILBAO"
        ],
        [
         "26",
         "2022-12-01 00:00:00",
         "3166.0",
         "0.5%",
         "2.5%",
         "4.5%",
         "BILBAO"
        ],
        [
         "27",
         "2022-11-01 00:00:00",
         "3151.0",
         "0.4%",
         "2.5%",
         "4.7%",
         "BILBAO"
        ],
        [
         "28",
         "2022-10-01 00:00:00",
         "3139.0",
         "1.6%",
         "2.3%",
         "5,00%",
         "BILBAO"
        ],
        [
         "29",
         "2022-09-01 00:00:00",
         "3090.0",
         "0.5%",
         "1.1%",
         "3.6%",
         "BILBAO"
        ],
        [
         "30",
         "2022-08-01 00:00:00",
         "3076.0",
         "0.2%",
         "0.3%",
         "4,00%",
         "BILBAO"
        ],
        [
         "31",
         "2022-07-01 00:00:00",
         "3069.0",
         "0.4%",
         "-0.1%",
         "2.6%",
         "BILBAO"
        ],
        [
         "32",
         "2022-06-01 00:00:00",
         "3057.0",
         "-0.3%",
         "-1.1%",
         "2.8%",
         "BILBAO"
        ],
        [
         "33",
         "2022-05-01 00:00:00",
         "3065.0",
         "-0.2%",
         "-0.6%",
         "3,00%",
         "BILBAO"
        ],
        [
         "34",
         "2022-04-01 00:00:00",
         "3071.0",
         "-0.6%",
         "0,00%",
         "2.9%",
         "BILBAO"
        ],
        [
         "35",
         "2022-03-01 00:00:00",
         "3090.0",
         "0.2%",
         "2,00%",
         "2.8%",
         "BILBAO"
        ],
        [
         "36",
         "2022-02-01 00:00:00",
         "3084.0",
         "0.4%",
         "2.5%",
         "2,00%",
         "BILBAO"
        ],
        [
         "37",
         "2022-01-01 00:00:00",
         "3072.0",
         "1.4%",
         "2.7%",
         "1.7%",
         "BILBAO"
        ],
        [
         "38",
         "2021-12-01 00:00:00",
         "3031.0",
         "0.7%",
         "1.6%",
         "0.5%",
         "BILBAO"
        ],
        [
         "39",
         "2021-11-01 00:00:00",
         "3010.0",
         "0.7%",
         "1.8%",
         "-0.3%",
         "BILBAO"
        ],
        [
         "40",
         "2021-10-01 00:00:00",
         "2990.0",
         "0.3%",
         "0,00%",
         "-1.4%",
         "BILBAO"
        ],
        [
         "41",
         "2021-09-01 00:00:00",
         "2982.0",
         "0.8%",
         "0.2%",
         "-1.1%",
         "BILBAO"
        ],
        [
         "42",
         "2021-08-01 00:00:00",
         "2957.0",
         "-1.1%",
         "-0.7%",
         "-1.1%",
         "BILBAO"
        ],
        [
         "43",
         "2021-07-01 00:00:00",
         "2990.0",
         "0.5%",
         "0.2%",
         "0,00%",
         "BILBAO"
        ],
        [
         "44",
         "2021-06-01 00:00:00",
         "2974.0",
         "-0.1%",
         "-1.1%",
         "-1.2%",
         "BILBAO"
        ],
        [
         "45",
         "2021-05-01 00:00:00",
         "2977.0",
         "-0.2%",
         "-1.5%",
         "-0.1%",
         "BILBAO"
        ],
        [
         "46",
         "2021-04-01 00:00:00",
         "2984.0",
         "-0.8%",
         "-1.2%",
         "1,00%",
         "BILBAO"
        ],
        [
         "47",
         "2021-03-01 00:00:00",
         "3007.0",
         "-0.5%",
         "-0.3%",
         "3.1%",
         "BILBAO"
        ],
        [
         "48",
         "2021-02-01 00:00:00",
         "3023.0",
         "0.1%",
         "0.2%",
         "5.2%",
         "BILBAO"
        ],
        [
         "49",
         "2021-01-01 00:00:00",
         "3019.0",
         "0.1%",
         "-0.4%",
         "5.2%",
         "BILBAO"
        ]
       ],
       "shape": {
        "columns": 6,
        "rows": 1987
       }
      },
      "text/html": [
       "<div>\n",
       "<style scoped>\n",
       "    .dataframe tbody tr th:only-of-type {\n",
       "        vertical-align: middle;\n",
       "    }\n",
       "\n",
       "    .dataframe tbody tr th {\n",
       "        vertical-align: top;\n",
       "    }\n",
       "\n",
       "    .dataframe thead th {\n",
       "        text-align: right;\n",
       "    }\n",
       "</style>\n",
       "<table border=\"1\" class=\"dataframe\">\n",
       "  <thead>\n",
       "    <tr style=\"text-align: right;\">\n",
       "      <th></th>\n",
       "      <th>Mes</th>\n",
       "      <th>Precio m2</th>\n",
       "      <th>Variación mensual</th>\n",
       "      <th>Variación trimestral</th>\n",
       "      <th>Variación anual</th>\n",
       "      <th>Distrito</th>\n",
       "    </tr>\n",
       "  </thead>\n",
       "  <tbody>\n",
       "    <tr>\n",
       "      <th>0</th>\n",
       "      <td>2025-02-01 00:00:00</td>\n",
       "      <td>3524.0</td>\n",
       "      <td>1.1%</td>\n",
       "      <td>3.2%</td>\n",
       "      <td>7.6%</td>\n",
       "      <td>BILBAO</td>\n",
       "    </tr>\n",
       "    <tr>\n",
       "      <th>1</th>\n",
       "      <td>2025-01-01 00:00:00</td>\n",
       "      <td>3485.0</td>\n",
       "      <td>-0.2%</td>\n",
       "      <td>3.1%</td>\n",
       "      <td>6.8%</td>\n",
       "      <td>BILBAO</td>\n",
       "    </tr>\n",
       "    <tr>\n",
       "      <th>2</th>\n",
       "      <td>2024-12-01 00:00:00</td>\n",
       "      <td>3491.0</td>\n",
       "      <td>2.2%</td>\n",
       "      <td>3.1%</td>\n",
       "      <td>7.7%</td>\n",
       "      <td>BILBAO</td>\n",
       "    </tr>\n",
       "    <tr>\n",
       "      <th>3</th>\n",
       "      <td>2024-11-01 00:00:00</td>\n",
       "      <td>3417.0</td>\n",
       "      <td>1.1%</td>\n",
       "      <td>1,00%</td>\n",
       "      <td>6.2%</td>\n",
       "      <td>BILBAO</td>\n",
       "    </tr>\n",
       "    <tr>\n",
       "      <th>4</th>\n",
       "      <td>2024-10-01 00:00:00</td>\n",
       "      <td>3381.0</td>\n",
       "      <td>-0.1%</td>\n",
       "      <td>0.9%</td>\n",
       "      <td>5.9%</td>\n",
       "      <td>BILBAO</td>\n",
       "    </tr>\n",
       "    <tr>\n",
       "      <th>...</th>\n",
       "      <td>...</td>\n",
       "      <td>...</td>\n",
       "      <td>...</td>\n",
       "      <td>...</td>\n",
       "      <td>...</td>\n",
       "      <td>...</td>\n",
       "    </tr>\n",
       "    <tr>\n",
       "      <th>2474</th>\n",
       "      <td>2010-08-01 00:00:00</td>\n",
       "      <td>3314.0</td>\n",
       "      <td>1.2%</td>\n",
       "      <td>2,00%</td>\n",
       "      <td>n.d.</td>\n",
       "      <td>Uribarri</td>\n",
       "    </tr>\n",
       "    <tr>\n",
       "      <th>2475</th>\n",
       "      <td>2010-07-01 00:00:00</td>\n",
       "      <td>3276.0</td>\n",
       "      <td>3.7%</td>\n",
       "      <td>3.6%</td>\n",
       "      <td>n.d.</td>\n",
       "      <td>Uribarri</td>\n",
       "    </tr>\n",
       "    <tr>\n",
       "      <th>2476</th>\n",
       "      <td>2010-06-01 00:00:00</td>\n",
       "      <td>3158.0</td>\n",
       "      <td>-2.8%</td>\n",
       "      <td>n.d.</td>\n",
       "      <td>n.d.</td>\n",
       "      <td>Uribarri</td>\n",
       "    </tr>\n",
       "    <tr>\n",
       "      <th>2477</th>\n",
       "      <td>2010-05-01 00:00:00</td>\n",
       "      <td>3250.0</td>\n",
       "      <td>2.7%</td>\n",
       "      <td>n.d.</td>\n",
       "      <td>n.d.</td>\n",
       "      <td>Uribarri</td>\n",
       "    </tr>\n",
       "    <tr>\n",
       "      <th>2478</th>\n",
       "      <td>2010-04-01 00:00:00</td>\n",
       "      <td>3163.0</td>\n",
       "      <td>n.d.</td>\n",
       "      <td>n.d.</td>\n",
       "      <td>n.d.</td>\n",
       "      <td>Uribarri</td>\n",
       "    </tr>\n",
       "  </tbody>\n",
       "</table>\n",
       "<p>1987 rows × 6 columns</p>\n",
       "</div>"
      ],
      "text/plain": [
       "                      Mes  Precio m2 Variación mensual Variación trimestral  \\\n",
       "0     2025-02-01 00:00:00     3524.0              1.1%                 3.2%   \n",
       "1     2025-01-01 00:00:00     3485.0             -0.2%                 3.1%   \n",
       "2     2024-12-01 00:00:00     3491.0              2.2%                 3.1%   \n",
       "3     2024-11-01 00:00:00     3417.0              1.1%                1,00%   \n",
       "4     2024-10-01 00:00:00     3381.0             -0.1%                 0.9%   \n",
       "...                   ...        ...               ...                  ...   \n",
       "2474  2010-08-01 00:00:00     3314.0              1.2%                2,00%   \n",
       "2475  2010-07-01 00:00:00     3276.0              3.7%                 3.6%   \n",
       "2476  2010-06-01 00:00:00     3158.0             -2.8%                 n.d.   \n",
       "2477  2010-05-01 00:00:00     3250.0              2.7%                 n.d.   \n",
       "2478  2010-04-01 00:00:00     3163.0              n.d.                 n.d.   \n",
       "\n",
       "     Variación anual  Distrito  \n",
       "0               7.6%    BILBAO  \n",
       "1               6.8%    BILBAO  \n",
       "2               7.7%    BILBAO  \n",
       "3               6.2%    BILBAO  \n",
       "4               5.9%    BILBAO  \n",
       "...              ...       ...  \n",
       "2474            n.d.  Uribarri  \n",
       "2475            n.d.  Uribarri  \n",
       "2476            n.d.  Uribarri  \n",
       "2477            n.d.  Uribarri  \n",
       "2478            n.d.  Uribarri  \n",
       "\n",
       "[1987 rows x 6 columns]"
      ]
     },
     "execution_count": 23,
     "metadata": {},
     "output_type": "execute_result"
    }
   ],
   "source": [
    "comp.loc[:,\"Mes\"] = pd.to_datetime(comp[\"Mes\"],dayfirst=True)\n",
    "comp"
   ]
  },
  {
   "cell_type": "code",
   "execution_count": 24,
   "metadata": {},
   "outputs": [
    {
     "data": {
      "image/png": "[encoded data removed]",
      "text/plain": [
       "<Figure size 1500x1000 with 1 Axes>"
      ]
     },
     "metadata": {},
     "output_type": "display_data"
    }
   ],
   "source": [
    "plt.figure(figsize=(15,10))\n",
    "sns.lineplot(data = comp[comp[\"Distrito\"] != \"BILBAO\"], x = \"Mes\", y = \"Precio m2\", hue = \"Distrito\")\n",
    "sns.lineplot(data = comp[comp[\"Distrito\"] == \"BILBAO\"], x = \"Mes\", y = \"Precio m2\",linewidth = 5, label = \"BILBAO\")\n",
    "plt.title(\"Evolución precio de precio de compra en Bilbao €/m2\");"
   ]
  },
  {
   "cell_type": "code",
   "execution_count": 25,
   "metadata": {},
   "outputs": [
    {
     "data": {
      "application/vnd.microsoft.datawrangler.viewer.v0+json": {
       "columns": [
        {
         "name": "index",
         "rawType": "int64",
         "type": "integer"
        },
        {
         "name": "Comunidades y Ciudades Autónomas",
         "rawType": "object",
         "type": "string"
        },
        {
         "name": "Grupos ECOICOP",
         "rawType": "object",
         "type": "string"
        },
        {
         "name": "Tipo de dato",
         "rawType": "object",
         "type": "string"
        },
        {
         "name": "Periodo",
         "rawType": "int64",
         "type": "integer"
        },
        {
         "name": "Total",
         "rawType": "float64",
         "type": "float"
        }
       ],
       "conversionMethod": "pd.DataFrame",
       "ref": "cc284bf0-f5f1-4f56-9bee-222e0e6981ef",
       "rows": [
        [
         "0",
         "16 País Vasco",
         "Índice general",
         "Variación de las medias anuales",
         "2024",
         "3.1"
        ],
        [
         "1",
         "16 País Vasco",
         "Índice general",
         "Variación de las medias anuales",
         "2023",
         "3.6"
        ],
        [
         "2",
         "16 País Vasco",
         "Índice general",
         "Variación de las medias anuales",
         "2022",
         "8.0"
        ],
        [
         "3",
         "16 País Vasco",
         "Índice general",
         "Variación de las medias anuales",
         "2021",
         "3.1"
        ],
        [
         "4",
         "16 País Vasco",
         "Índice general",
         "Variación de las medias anuales",
         "2020",
         "-0.1"
        ],
        [
         "5",
         "16 País Vasco",
         "Índice general",
         "Variación de las medias anuales",
         "2019",
         "1.0"
        ],
        [
         "6",
         "16 País Vasco",
         "Índice general",
         "Variación de las medias anuales",
         "2018",
         "1.6"
        ],
        [
         "7",
         "16 País Vasco",
         "Índice general",
         "Variación de las medias anuales",
         "2017",
         "2.0"
        ],
        [
         "8",
         "16 País Vasco",
         "Índice general",
         "Variación de las medias anuales",
         "2016",
         "0.0"
        ],
        [
         "9",
         "16 País Vasco",
         "Índice general",
         "Variación de las medias anuales",
         "2015",
         "-0.3"
        ],
        [
         "10",
         "16 País Vasco",
         "Índice general",
         "Variación de las medias anuales",
         "2014",
         "0.2"
        ],
        [
         "11",
         "16 País Vasco",
         "Índice general",
         "Variación de las medias anuales",
         "2013",
         "1.6"
        ],
        [
         "12",
         "16 País Vasco",
         "Índice general",
         "Variación de las medias anuales",
         "2012",
         "2.3"
        ],
        [
         "13",
         "16 País Vasco",
         "Índice general",
         "Variación de las medias anuales",
         "2011",
         "3.1"
        ],
        [
         "14",
         "16 País Vasco",
         "Índice general",
         "Variación de las medias anuales",
         "2010",
         "1.7"
        ],
        [
         "15",
         "16 País Vasco",
         "Índice general",
         "Variación de las medias anuales",
         "2009",
         "0.3"
        ],
        [
         "16",
         "16 País Vasco",
         "Índice general",
         "Variación de las medias anuales",
         "2008",
         "4.1"
        ],
        [
         "17",
         "16 País Vasco",
         "Índice general",
         "Variación de las medias anuales",
         "2007",
         "2.8"
        ],
        [
         "18",
         "16 País Vasco",
         "Índice general",
         "Variación de las medias anuales",
         "2006",
         "3.4"
        ],
        [
         "19",
         "16 País Vasco",
         "Índice general",
         "Variación de las medias anuales",
         "2005",
         "3.3"
        ],
        [
         "20",
         "16 País Vasco",
         "Índice general",
         "Variación de las medias anuales",
         "2004",
         "3.0"
        ],
        [
         "21",
         "16 País Vasco",
         "Índice general",
         "Variación de las medias anuales",
         "2003",
         "2.8"
        ],
        [
         "22",
         "16 País Vasco",
         "Índice general",
         "Variación de las medias anuales",
         "2002",
         null
        ],
        [
         "23",
         "16 País Vasco",
         "04 Vivienda, agua, electricidad, gas y otros combustibles",
         "Variación de las medias anuales",
         "2024",
         "3.7"
        ],
        [
         "24",
         "16 País Vasco",
         "04 Vivienda, agua, electricidad, gas y otros combustibles",
         "Variación de las medias anuales",
         "2023",
         "-12.0"
        ],
        [
         "25",
         "16 País Vasco",
         "04 Vivienda, agua, electricidad, gas y otros combustibles",
         "Variación de las medias anuales",
         "2022",
         "15.8"
        ],
        [
         "26",
         "16 País Vasco",
         "04 Vivienda, agua, electricidad, gas y otros combustibles",
         "Variación de las medias anuales",
         "2021",
         "11.3"
        ],
        [
         "27",
         "16 País Vasco",
         "04 Vivienda, agua, electricidad, gas y otros combustibles",
         "Variación de las medias anuales",
         "2020",
         "-3.3"
        ],
        [
         "28",
         "16 País Vasco",
         "04 Vivienda, agua, electricidad, gas y otros combustibles",
         "Variación de las medias anuales",
         "2019",
         "-1.5"
        ],
        [
         "29",
         "16 País Vasco",
         "04 Vivienda, agua, electricidad, gas y otros combustibles",
         "Variación de las medias anuales",
         "2018",
         "2.5"
        ],
        [
         "30",
         "16 País Vasco",
         "04 Vivienda, agua, electricidad, gas y otros combustibles",
         "Variación de las medias anuales",
         "2017",
         "3.7"
        ],
        [
         "31",
         "16 País Vasco",
         "04 Vivienda, agua, electricidad, gas y otros combustibles",
         "Variación de las medias anuales",
         "2016",
         "-4.1"
        ],
        [
         "32",
         "16 País Vasco",
         "04 Vivienda, agua, electricidad, gas y otros combustibles",
         "Variación de las medias anuales",
         "2015",
         "-1.7"
        ],
        [
         "33",
         "16 País Vasco",
         "04 Vivienda, agua, electricidad, gas y otros combustibles",
         "Variación de las medias anuales",
         "2014",
         "2.0"
        ],
        [
         "34",
         "16 País Vasco",
         "04 Vivienda, agua, electricidad, gas y otros combustibles",
         "Variación de las medias anuales",
         "2013",
         "1.1"
        ],
        [
         "35",
         "16 País Vasco",
         "04 Vivienda, agua, electricidad, gas y otros combustibles",
         "Variación de las medias anuales",
         "2012",
         "5.7"
        ],
        [
         "36",
         "16 País Vasco",
         "04 Vivienda, agua, electricidad, gas y otros combustibles",
         "Variación de las medias anuales",
         "2011",
         "7.8"
        ],
        [
         "37",
         "16 País Vasco",
         "04 Vivienda, agua, electricidad, gas y otros combustibles",
         "Variación de las medias anuales",
         "2010",
         "3.1"
        ],
        [
         "38",
         "16 País Vasco",
         "04 Vivienda, agua, electricidad, gas y otros combustibles",
         "Variación de las medias anuales",
         "2009",
         "1.9"
        ],
        [
         "39",
         "16 País Vasco",
         "04 Vivienda, agua, electricidad, gas y otros combustibles",
         "Variación de las medias anuales",
         "2008",
         "6.4"
        ],
        [
         "40",
         "16 País Vasco",
         "04 Vivienda, agua, electricidad, gas y otros combustibles",
         "Variación de las medias anuales",
         "2007",
         "3.6"
        ],
        [
         "41",
         "16 País Vasco",
         "04 Vivienda, agua, electricidad, gas y otros combustibles",
         "Variación de las medias anuales",
         "2006",
         "6.2"
        ],
        [
         "42",
         "16 País Vasco",
         "04 Vivienda, agua, electricidad, gas y otros combustibles",
         "Variación de las medias anuales",
         "2005",
         "5.0"
        ],
        [
         "43",
         "16 País Vasco",
         "04 Vivienda, agua, electricidad, gas y otros combustibles",
         "Variación de las medias anuales",
         "2004",
         "4.2"
        ],
        [
         "44",
         "16 País Vasco",
         "04 Vivienda, agua, electricidad, gas y otros combustibles",
         "Variación de las medias anuales",
         "2003",
         "2.9"
        ],
        [
         "45",
         "16 País Vasco",
         "04 Vivienda, agua, electricidad, gas y otros combustibles",
         "Variación de las medias anuales",
         "2002",
         null
        ]
       ],
       "shape": {
        "columns": 5,
        "rows": 46
       }
      },
      "text/html": [
       "<div>\n",
       "<style scoped>\n",
       "    .dataframe tbody tr th:only-of-type {\n",
       "        vertical-align: middle;\n",
       "    }\n",
       "\n",
       "    .dataframe tbody tr th {\n",
       "        vertical-align: top;\n",
       "    }\n",
       "\n",
       "    .dataframe thead th {\n",
       "        text-align: right;\n",
       "    }\n",
       "</style>\n",
       "<table border=\"1\" class=\"dataframe\">\n",
       "  <thead>\n",
       "    <tr style=\"text-align: right;\">\n",
       "      <th></th>\n",
       "      <th>Comunidades y Ciudades Autónomas</th>\n",
       "      <th>Grupos ECOICOP</th>\n",
       "      <th>Tipo de dato</th>\n",
       "      <th>Periodo</th>\n",
       "      <th>Total</th>\n",
       "    </tr>\n",
       "  </thead>\n",
       "  <tbody>\n",
       "    <tr>\n",
       "      <th>0</th>\n",
       "      <td>16 País Vasco</td>\n",
       "      <td>Índice general</td>\n",
       "      <td>Variación de las medias anuales</td>\n",
       "      <td>2024</td>\n",
       "      <td>3.1</td>\n",
       "    </tr>\n",
       "    <tr>\n",
       "      <th>1</th>\n",
       "      <td>16 País Vasco</td>\n",
       "      <td>Índice general</td>\n",
       "      <td>Variación de las medias anuales</td>\n",
       "      <td>2023</td>\n",
       "      <td>3.6</td>\n",
       "    </tr>\n",
       "    <tr>\n",
       "      <th>2</th>\n",
       "      <td>16 País Vasco</td>\n",
       "      <td>Índice general</td>\n",
       "      <td>Variación de las medias anuales</td>\n",
       "      <td>2022</td>\n",
       "      <td>8.0</td>\n",
       "    </tr>\n",
       "    <tr>\n",
       "      <th>3</th>\n",
       "      <td>16 País Vasco</td>\n",
       "      <td>Índice general</td>\n",
       "      <td>Variación de las medias anuales</td>\n",
       "      <td>2021</td>\n",
       "      <td>3.1</td>\n",
       "    </tr>\n",
       "    <tr>\n",
       "      <th>4</th>\n",
       "      <td>16 País Vasco</td>\n",
       "      <td>Índice general</td>\n",
       "      <td>Variación de las medias anuales</td>\n",
       "      <td>2020</td>\n",
       "      <td>-0.1</td>\n",
       "    </tr>\n",
       "    <tr>\n",
       "      <th>5</th>\n",
       "      <td>16 País Vasco</td>\n",
       "      <td>Índice general</td>\n",
       "      <td>Variación de las medias anuales</td>\n",
       "      <td>2019</td>\n",
       "      <td>1.0</td>\n",
       "    </tr>\n",
       "    <tr>\n",
       "      <th>6</th>\n",
       "      <td>16 País Vasco</td>\n",
       "      <td>Índice general</td>\n",
       "      <td>Variación de las medias anuales</td>\n",
       "      <td>2018</td>\n",
       "      <td>1.6</td>\n",
       "    </tr>\n",
       "    <tr>\n",
       "      <th>7</th>\n",
       "      <td>16 País Vasco</td>\n",
       "      <td>Índice general</td>\n",
       "      <td>Variación de las medias anuales</td>\n",
       "      <td>2017</td>\n",
       "      <td>2.0</td>\n",
       "    </tr>\n",
       "    <tr>\n",
       "      <th>8</th>\n",
       "      <td>16 País Vasco</td>\n",
       "      <td>Índice general</td>\n",
       "      <td>Variación de las medias anuales</td>\n",
       "      <td>2016</td>\n",
       "      <td>0.0</td>\n",
       "    </tr>\n",
       "    <tr>\n",
       "      <th>9</th>\n",
       "      <td>16 País Vasco</td>\n",
       "      <td>Índice general</td>\n",
       "      <td>Variación de las medias anuales</td>\n",
       "      <td>2015</td>\n",
       "      <td>-0.3</td>\n",
       "    </tr>\n",
       "    <tr>\n",
       "      <th>10</th>\n",
       "      <td>16 País Vasco</td>\n",
       "      <td>Índice general</td>\n",
       "      <td>Variación de las medias anuales</td>\n",
       "      <td>2014</td>\n",
       "      <td>0.2</td>\n",
       "    </tr>\n",
       "    <tr>\n",
       "      <th>11</th>\n",
       "      <td>16 País Vasco</td>\n",
       "      <td>Índice general</td>\n",
       "      <td>Variación de las medias anuales</td>\n",
       "      <td>2013</td>\n",
       "      <td>1.6</td>\n",
       "    </tr>\n",
       "    <tr>\n",
       "      <th>12</th>\n",
       "      <td>16 País Vasco</td>\n",
       "      <td>Índice general</td>\n",
       "      <td>Variación de las medias anuales</td>\n",
       "      <td>2012</td>\n",
       "      <td>2.3</td>\n",
       "    </tr>\n",
       "    <tr>\n",
       "      <th>13</th>\n",
       "      <td>16 País Vasco</td>\n",
       "      <td>Índice general</td>\n",
       "      <td>Variación de las medias anuales</td>\n",
       "      <td>2011</td>\n",
       "      <td>3.1</td>\n",
       "    </tr>\n",
       "    <tr>\n",
       "      <th>14</th>\n",
       "      <td>16 País Vasco</td>\n",
       "      <td>Índice general</td>\n",
       "      <td>Variación de las medias anuales</td>\n",
       "      <td>2010</td>\n",
       "      <td>1.7</td>\n",
       "    </tr>\n",
       "    <tr>\n",
       "      <th>15</th>\n",
       "      <td>16 País Vasco</td>\n",
       "      <td>Índice general</td>\n",
       "      <td>Variación de las medias anuales</td>\n",
       "      <td>2009</td>\n",
       "      <td>0.3</td>\n",
       "    </tr>\n",
       "    <tr>\n",
       "      <th>16</th>\n",
       "      <td>16 País Vasco</td>\n",
       "      <td>Índice general</td>\n",
       "      <td>Variación de las medias anuales</td>\n",
       "      <td>2008</td>\n",
       "      <td>4.1</td>\n",
       "    </tr>\n",
       "    <tr>\n",
       "      <th>17</th>\n",
       "      <td>16 País Vasco</td>\n",
       "      <td>Índice general</td>\n",
       "      <td>Variación de las medias anuales</td>\n",
       "      <td>2007</td>\n",
       "      <td>2.8</td>\n",
       "    </tr>\n",
       "    <tr>\n",
       "      <th>18</th>\n",
       "      <td>16 País Vasco</td>\n",
       "      <td>Índice general</td>\n",
       "      <td>Variación de las medias anuales</td>\n",
       "      <td>2006</td>\n",
       "      <td>3.4</td>\n",
       "    </tr>\n",
       "    <tr>\n",
       "      <th>19</th>\n",
       "      <td>16 País Vasco</td>\n",
       "      <td>Índice general</td>\n",
       "      <td>Variación de las medias anuales</td>\n",
       "      <td>2005</td>\n",
       "      <td>3.3</td>\n",
       "    </tr>\n",
       "    <tr>\n",
       "      <th>20</th>\n",
       "      <td>16 País Vasco</td>\n",
       "      <td>Índice general</td>\n",
       "      <td>Variación de las medias anuales</td>\n",
       "      <td>2004</td>\n",
       "      <td>3.0</td>\n",
       "    </tr>\n",
       "    <tr>\n",
       "      <th>21</th>\n",
       "      <td>16 País Vasco</td>\n",
       "      <td>Índice general</td>\n",
       "      <td>Variación de las medias anuales</td>\n",
       "      <td>2003</td>\n",
       "      <td>2.8</td>\n",
       "    </tr>\n",
       "    <tr>\n",
       "      <th>22</th>\n",
       "      <td>16 País Vasco</td>\n",
       "      <td>Índice general</td>\n",
       "      <td>Variación de las medias anuales</td>\n",
       "      <td>2002</td>\n",
       "      <td>NaN</td>\n",
       "    </tr>\n",
       "    <tr>\n",
       "      <th>23</th>\n",
       "      <td>16 País Vasco</td>\n",
       "      <td>04 Vivienda, agua, electricidad, gas y otros c...</td>\n",
       "      <td>Variación de las medias anuales</td>\n",
       "      <td>2024</td>\n",
       "      <td>3.7</td>\n",
       "    </tr>\n",
       "    <tr>\n",
       "      <th>24</th>\n",
       "      <td>16 País Vasco</td>\n",
       "      <td>04 Vivienda, agua, electricidad, gas y otros c...</td>\n",
       "      <td>Variación de las medias anuales</td>\n",
       "      <td>2023</td>\n",
       "      <td>-12.0</td>\n",
       "    </tr>\n",
       "    <tr>\n",
       "      <th>25</th>\n",
       "      <td>16 País Vasco</td>\n",
       "      <td>04 Vivienda, agua, electricidad, gas y otros c...</td>\n",
       "      <td>Variación de las medias anuales</td>\n",
       "      <td>2022</td>\n",
       "      <td>15.8</td>\n",
       "    </tr>\n",
       "    <tr>\n",
       "      <th>26</th>\n",
       "      <td>16 País Vasco</td>\n",
       "      <td>04 Vivienda, agua, electricidad, gas y otros c...</td>\n",
       "      <td>Variación de las medias anuales</td>\n",
       "      <td>2021</td>\n",
       "      <td>11.3</td>\n",
       "    </tr>\n",
       "    <tr>\n",
       "      <th>27</th>\n",
       "      <td>16 País Vasco</td>\n",
       "      <td>04 Vivienda, agua, electricidad, gas y otros c...</td>\n",
       "      <td>Variación de las medias anuales</td>\n",
       "      <td>2020</td>\n",
       "      <td>-3.3</td>\n",
       "    </tr>\n",
       "    <tr>\n",
       "      <th>28</th>\n",
       "      <td>16 País Vasco</td>\n",
       "      <td>04 Vivienda, agua, electricidad, gas y otros c...</td>\n",
       "      <td>Variación de las medias anuales</td>\n",
       "      <td>2019</td>\n",
       "      <td>-1.5</td>\n",
       "    </tr>\n",
       "    <tr>\n",
       "      <th>29</th>\n",
       "      <td>16 País Vasco</td>\n",
       "      <td>04 Vivienda, agua, electricidad, gas y otros c...</td>\n",
       "      <td>Variación de las medias anuales</td>\n",
       "      <td>2018</td>\n",
       "      <td>2.5</td>\n",
       "    </tr>\n",
       "    <tr>\n",
       "      <th>30</th>\n",
       "      <td>16 País Vasco</td>\n",
       "      <td>04 Vivienda, agua, electricidad, gas y otros c...</td>\n",
       "      <td>Variación de las medias anuales</td>\n",
       "      <td>2017</td>\n",
       "      <td>3.7</td>\n",
       "    </tr>\n",
       "    <tr>\n",
       "      <th>31</th>\n",
       "      <td>16 País Vasco</td>\n",
       "      <td>04 Vivienda, agua, electricidad, gas y otros c...</td>\n",
       "      <td>Variación de las medias anuales</td>\n",
       "      <td>2016</td>\n",
       "      <td>-4.1</td>\n",
       "    </tr>\n",
       "    <tr>\n",
       "      <th>32</th>\n",
       "      <td>16 País Vasco</td>\n",
       "      <td>04 Vivienda, agua, electricidad, gas y otros c...</td>\n",
       "      <td>Variación de las medias anuales</td>\n",
       "      <td>2015</td>\n",
       "      <td>-1.7</td>\n",
       "    </tr>\n",
       "    <tr>\n",
       "      <th>33</th>\n",
       "      <td>16 País Vasco</td>\n",
       "      <td>04 Vivienda, agua, electricidad, gas y otros c...</td>\n",
       "      <td>Variación de las medias anuales</td>\n",
       "      <td>2014</td>\n",
       "      <td>2.0</td>\n",
       "    </tr>\n",
       "    <tr>\n",
       "      <th>34</th>\n",
       "      <td>16 País Vasco</td>\n",
       "      <td>04 Vivienda, agua, electricidad, gas y otros c...</td>\n",
       "      <td>Variación de las medias anuales</td>\n",
       "      <td>2013</td>\n",
       "      <td>1.1</td>\n",
       "    </tr>\n",
       "    <tr>\n",
       "      <th>35</th>\n",
       "      <td>16 País Vasco</td>\n",
       "      <td>04 Vivienda, agua, electricidad, gas y otros c...</td>\n",
       "      <td>Variación de las medias anuales</td>\n",
       "      <td>2012</td>\n",
       "      <td>5.7</td>\n",
       "    </tr>\n",
       "    <tr>\n",
       "      <th>36</th>\n",
       "      <td>16 País Vasco</td>\n",
       "      <td>04 Vivienda, agua, electricidad, gas y otros c...</td>\n",
       "      <td>Variación de las medias anuales</td>\n",
       "      <td>2011</td>\n",
       "      <td>7.8</td>\n",
       "    </tr>\n",
       "    <tr>\n",
       "      <th>37</th>\n",
       "      <td>16 País Vasco</td>\n",
       "      <td>04 Vivienda, agua, electricidad, gas y otros c...</td>\n",
       "      <td>Variación de las medias anuales</td>\n",
       "      <td>2010</td>\n",
       "      <td>3.1</td>\n",
       "    </tr>\n",
       "    <tr>\n",
       "      <th>38</th>\n",
       "      <td>16 País Vasco</td>\n",
       "      <td>04 Vivienda, agua, electricidad, gas y otros c...</td>\n",
       "      <td>Variación de las medias anuales</td>\n",
       "      <td>2009</td>\n",
       "      <td>1.9</td>\n",
       "    </tr>\n",
       "    <tr>\n",
       "      <th>39</th>\n",
       "      <td>16 País Vasco</td>\n",
       "      <td>04 Vivienda, agua, electricidad, gas y otros c...</td>\n",
       "      <td>Variación de las medias anuales</td>\n",
       "      <td>2008</td>\n",
       "      <td>6.4</td>\n",
       "    </tr>\n",
       "    <tr>\n",
       "      <th>40</th>\n",
       "      <td>16 País Vasco</td>\n",
       "      <td>04 Vivienda, agua, electricidad, gas y otros c...</td>\n",
       "      <td>Variación de las medias anuales</td>\n",
       "      <td>2007</td>\n",
       "      <td>3.6</td>\n",
       "    </tr>\n",
       "    <tr>\n",
       "      <th>41</th>\n",
       "      <td>16 País Vasco</td>\n",
       "      <td>04 Vivienda, agua, electricidad, gas y otros c...</td>\n",
       "      <td>Variación de las medias anuales</td>\n",
       "      <td>2006</td>\n",
       "      <td>6.2</td>\n",
       "    </tr>\n",
       "    <tr>\n",
       "      <th>42</th>\n",
       "      <td>16 País Vasco</td>\n",
       "      <td>04 Vivienda, agua, electricidad, gas y otros c...</td>\n",
       "      <td>Variación de las medias anuales</td>\n",
       "      <td>2005</td>\n",
       "      <td>5.0</td>\n",
       "    </tr>\n",
       "    <tr>\n",
       "      <th>43</th>\n",
       "      <td>16 País Vasco</td>\n",
       "      <td>04 Vivienda, agua, electricidad, gas y otros c...</td>\n",
       "      <td>Variación de las medias anuales</td>\n",
       "      <td>2004</td>\n",
       "      <td>4.2</td>\n",
       "    </tr>\n",
       "    <tr>\n",
       "      <th>44</th>\n",
       "      <td>16 País Vasco</td>\n",
       "      <td>04 Vivienda, agua, electricidad, gas y otros c...</td>\n",
       "      <td>Variación de las medias anuales</td>\n",
       "      <td>2003</td>\n",
       "      <td>2.9</td>\n",
       "    </tr>\n",
       "    <tr>\n",
       "      <th>45</th>\n",
       "      <td>16 País Vasco</td>\n",
       "      <td>04 Vivienda, agua, electricidad, gas y otros c...</td>\n",
       "      <td>Variación de las medias anuales</td>\n",
       "      <td>2002</td>\n",
       "      <td>NaN</td>\n",
       "    </tr>\n",
       "  </tbody>\n",
       "</table>\n",
       "</div>"
      ],
      "text/plain": [
       "   Comunidades y Ciudades Autónomas  \\\n",
       "0                     16 País Vasco   \n",
       "1                     16 País Vasco   \n",
       "2                     16 País Vasco   \n",
       "3                     16 País Vasco   \n",
       "4                     16 País Vasco   \n",
       "5                     16 País Vasco   \n",
       "6                     16 País Vasco   \n",
       "7                     16 País Vasco   \n",
       "8                     16 País Vasco   \n",
       "9                     16 País Vasco   \n",
       "10                    16 País Vasco   \n",
       "11                    16 País Vasco   \n",
       "12                    16 País Vasco   \n",
       "13                    16 País Vasco   \n",
       "14                    16 País Vasco   \n",
       "15                    16 País Vasco   \n",
       "16                    16 País Vasco   \n",
       "17                    16 País Vasco   \n",
       "18                    16 País Vasco   \n",
       "19                    16 País Vasco   \n",
       "20                    16 País Vasco   \n",
       "21                    16 País Vasco   \n",
       "22                    16 País Vasco   \n",
       "23                    16 País Vasco   \n",
       "24                    16 País Vasco   \n",
       "25                    16 País Vasco   \n",
       "26                    16 País Vasco   \n",
       "27                    16 País Vasco   \n",
       "28                    16 País Vasco   \n",
       "29                    16 País Vasco   \n",
       "30                    16 País Vasco   \n",
       "31                    16 País Vasco   \n",
       "32                    16 País Vasco   \n",
       "33                    16 País Vasco   \n",
       "34                    16 País Vasco   \n",
       "35                    16 País Vasco   \n",
       "36                    16 País Vasco   \n",
       "37                    16 País Vasco   \n",
       "38                    16 País Vasco   \n",
       "39                    16 País Vasco   \n",
       "40                    16 País Vasco   \n",
       "41                    16 País Vasco   \n",
       "42                    16 País Vasco   \n",
       "43                    16 País Vasco   \n",
       "44                    16 País Vasco   \n",
       "45                    16 País Vasco   \n",
       "\n",
       "                                       Grupos ECOICOP  \\\n",
       "0                                      Índice general   \n",
       "1                                      Índice general   \n",
       "2                                      Índice general   \n",
       "3                                      Índice general   \n",
       "4                                      Índice general   \n",
       "5                                      Índice general   \n",
       "6                                      Índice general   \n",
       "7                                      Índice general   \n",
       "8                                      Índice general   \n",
       "9                                      Índice general   \n",
       "10                                     Índice general   \n",
       "11                                     Índice general   \n",
       "12                                     Índice general   \n",
       "13                                     Índice general   \n",
       "14                                     Índice general   \n",
       "15                                     Índice general   \n",
       "16                                     Índice general   \n",
       "17                                     Índice general   \n",
       "18                                     Índice general   \n",
       "19                                     Índice general   \n",
       "20                                     Índice general   \n",
       "21                                     Índice general   \n",
       "22                                     Índice general   \n",
       "23  04 Vivienda, agua, electricidad, gas y otros c...   \n",
       "24  04 Vivienda, agua, electricidad, gas y otros c...   \n",
       "25  04 Vivienda, agua, electricidad, gas y otros c...   \n",
       "26  04 Vivienda, agua, electricidad, gas y otros c...   \n",
       "27  04 Vivienda, agua, electricidad, gas y otros c...   \n",
       "28  04 Vivienda, agua, electricidad, gas y otros c...   \n",
       "29  04 Vivienda, agua, electricidad, gas y otros c...   \n",
       "30  04 Vivienda, agua, electricidad, gas y otros c...   \n",
       "31  04 Vivienda, agua, electricidad, gas y otros c...   \n",
       "32  04 Vivienda, agua, electricidad, gas y otros c...   \n",
       "33  04 Vivienda, agua, electricidad, gas y otros c...   \n",
       "34  04 Vivienda, agua, electricidad, gas y otros c...   \n",
       "35  04 Vivienda, agua, electricidad, gas y otros c...   \n",
       "36  04 Vivienda, agua, electricidad, gas y otros c...   \n",
       "37  04 Vivienda, agua, electricidad, gas y otros c...   \n",
       "38  04 Vivienda, agua, electricidad, gas y otros c...   \n",
       "39  04 Vivienda, agua, electricidad, gas y otros c...   \n",
       "40  04 Vivienda, agua, electricidad, gas y otros c...   \n",
       "41  04 Vivienda, agua, electricidad, gas y otros c...   \n",
       "42  04 Vivienda, agua, electricidad, gas y otros c...   \n",
       "43  04 Vivienda, agua, electricidad, gas y otros c...   \n",
       "44  04 Vivienda, agua, electricidad, gas y otros c...   \n",
       "45  04 Vivienda, agua, electricidad, gas y otros c...   \n",
       "\n",
       "                       Tipo de dato  Periodo  Total  \n",
       "0   Variación de las medias anuales     2024    3.1  \n",
       "1   Variación de las medias anuales     2023    3.6  \n",
       "2   Variación de las medias anuales     2022    8.0  \n",
       "3   Variación de las medias anuales     2021    3.1  \n",
       "4   Variación de las medias anuales     2020   -0.1  \n",
       "5   Variación de las medias anuales     2019    1.0  \n",
       "6   Variación de las medias anuales     2018    1.6  \n",
       "7   Variación de las medias anuales     2017    2.0  \n",
       "8   Variación de las medias anuales     2016    0.0  \n",
       "9   Variación de las medias anuales     2015   -0.3  \n",
       "10  Variación de las medias anuales     2014    0.2  \n",
       "11  Variación de las medias anuales     2013    1.6  \n",
       "12  Variación de las medias anuales     2012    2.3  \n",
       "13  Variación de las medias anuales     2011    3.1  \n",
       "14  Variación de las medias anuales     2010    1.7  \n",
       "15  Variación de las medias anuales     2009    0.3  \n",
       "16  Variación de las medias anuales     2008    4.1  \n",
       "17  Variación de las medias anuales     2007    2.8  \n",
       "18  Variación de las medias anuales     2006    3.4  \n",
       "19  Variación de las medias anuales     2005    3.3  \n",
       "20  Variación de las medias anuales     2004    3.0  \n",
       "21  Variación de las medias anuales     2003    2.8  \n",
       "22  Variación de las medias anuales     2002    NaN  \n",
       "23  Variación de las medias anuales     2024    3.7  \n",
       "24  Variación de las medias anuales     2023  -12.0  \n",
       "25  Variación de las medias anuales     2022   15.8  \n",
       "26  Variación de las medias anuales     2021   11.3  \n",
       "27  Variación de las medias anuales     2020   -3.3  \n",
       "28  Variación de las medias anuales     2019   -1.5  \n",
       "29  Variación de las medias anuales     2018    2.5  \n",
       "30  Variación de las medias anuales     2017    3.7  \n",
       "31  Variación de las medias anuales     2016   -4.1  \n",
       "32  Variación de las medias anuales     2015   -1.7  \n",
       "33  Variación de las medias anuales     2014    2.0  \n",
       "34  Variación de las medias anuales     2013    1.1  \n",
       "35  Variación de las medias anuales     2012    5.7  \n",
       "36  Variación de las medias anuales     2011    7.8  \n",
       "37  Variación de las medias anuales     2010    3.1  \n",
       "38  Variación de las medias anuales     2009    1.9  \n",
       "39  Variación de las medias anuales     2008    6.4  \n",
       "40  Variación de las medias anuales     2007    3.6  \n",
       "41  Variación de las medias anuales     2006    6.2  \n",
       "42  Variación de las medias anuales     2005    5.0  \n",
       "43  Variación de las medias anuales     2004    4.2  \n",
       "44  Variación de las medias anuales     2003    2.9  \n",
       "45  Variación de las medias anuales     2002    NaN  "
      ]
     },
     "execution_count": 25,
     "metadata": {},
     "output_type": "execute_result"
    }
   ],
   "source": [
    "ipc = pd.read_csv(\"Data/ipc_euskadi.csv\", sep = \";\", encoding=\"Windows 1250\")\n",
    "ipc[\"Total\"] = ipc[\"Total\"].str.replace(\",\",\".\")\n",
    "ipc[\"Total\"] = np.float64(ipc[\"Total\"])\n",
    "ipc"
   ]
  },
  {
   "cell_type": "code",
   "execution_count": 26,
   "metadata": {},
   "outputs": [],
   "source": [
    "ipc[\"Periodo\"] = pd.to_datetime(ipc[\"Periodo\"],format= \"%Y\")"
   ]
  },
  {
   "cell_type": "code",
   "execution_count": 27,
   "metadata": {},
   "outputs": [
    {
     "data": {
      "application/vnd.microsoft.datawrangler.viewer.v0+json": {
       "columns": [
        {
         "name": "index",
         "rawType": "int64",
         "type": "integer"
        },
        {
         "name": "Mes",
         "rawType": "object",
         "type": "unknown"
        },
        {
         "name": "Precio m2",
         "rawType": "float64",
         "type": "float"
        },
        {
         "name": "Variación mensual",
         "rawType": "object",
         "type": "string"
        },
        {
         "name": "Variación trimestral",
         "rawType": "object",
         "type": "string"
        },
        {
         "name": "Variación anual",
         "rawType": "object",
         "type": "string"
        },
        {
         "name": "Distrito",
         "rawType": "object",
         "type": "string"
        }
       ],
       "conversionMethod": "pd.DataFrame",
       "ref": "83708a11-1573-4f18-a6d7-483b2b452c62",
       "rows": [
        [
         "0",
         "2025-02-01 00:00:00",
         "3524.0",
         "1.1%",
         "3.2%",
         "7.6%",
         "BILBAO"
        ],
        [
         "1",
         "2025-01-01 00:00:00",
         "3485.0",
         "-0.2%",
         "3.1%",
         "6.8%",
         "BILBAO"
        ],
        [
         "2",
         "2024-12-01 00:00:00",
         "3491.0",
         "2.2%",
         "3.1%",
         "7.7%",
         "BILBAO"
        ],
        [
         "3",
         "2024-11-01 00:00:00",
         "3417.0",
         "1.1%",
         "1,00%",
         "6.2%",
         "BILBAO"
        ],
        [
         "4",
         "2024-10-01 00:00:00",
         "3381.0",
         "-0.1%",
         "0.9%",
         "5.9%",
         "BILBAO"
        ],
        [
         "5",
         "2024-09-01 00:00:00",
         "3384.0",
         "0,00%",
         "2.5%",
         "6.1%",
         "BILBAO"
        ],
        [
         "6",
         "2024-08-01 00:00:00",
         "3383.0",
         "1,00%",
         "2.7%",
         "6.9%",
         "BILBAO"
        ],
        [
         "7",
         "2024-07-01 00:00:00",
         "3350.0",
         "1.5%",
         "1.9%",
         "6.3%",
         "BILBAO"
        ],
        [
         "8",
         "2024-06-01 00:00:00",
         "3301.0",
         "0.2%",
         "0.3%",
         "4.1%",
         "BILBAO"
        ],
        [
         "9",
         "2024-05-01 00:00:00",
         "3293.0",
         "0.1%",
         "0.5%",
         "2.8%",
         "BILBAO"
        ],
        [
         "10",
         "2024-04-01 00:00:00",
         "3290.0",
         "-0.1%",
         "0.8%",
         "3.4%",
         "BILBAO"
        ],
        [
         "11",
         "2024-03-01 00:00:00",
         "3292.0",
         "0.5%",
         "1.6%",
         "3.7%",
         "BILBAO"
        ],
        [
         "12",
         "2024-02-01 00:00:00",
         "3277.0",
         "0.4%",
         "1.9%",
         "3.1%",
         "BILBAO"
        ],
        [
         "13",
         "2024-01-01 00:00:00",
         "3264.0",
         "0.7%",
         "2.2%",
         "2.4%",
         "BILBAO"
        ],
        [
         "14",
         "2023-12-01 00:00:00",
         "3241.0",
         "0.7%",
         "1.6%",
         "2.3%",
         "BILBAO"
        ],
        [
         "15",
         "2023-11-01 00:00:00",
         "3217.0",
         "0.8%",
         "1.7%",
         "2.1%",
         "BILBAO"
        ],
        [
         "16",
         "2023-10-01 00:00:00",
         "3193.0",
         "0.1%",
         "1.3%",
         "1.7%",
         "BILBAO"
        ],
        [
         "17",
         "2023-09-01 00:00:00",
         "3191.0",
         "0.8%",
         "0.6%",
         "3.3%",
         "BILBAO"
        ],
        [
         "18",
         "2023-08-01 00:00:00",
         "3164.0",
         "0.4%",
         "-1.3%",
         "2.9%",
         "BILBAO"
        ],
        [
         "19",
         "2023-07-01 00:00:00",
         "3153.0",
         "-0.6%",
         "-0.9%",
         "2.7%",
         "BILBAO"
        ],
        [
         "20",
         "2023-06-01 00:00:00",
         "3171.0",
         "-1.1%",
         "-0.1%",
         "3.7%",
         "BILBAO"
        ],
        [
         "21",
         "2023-05-01 00:00:00",
         "3204.0",
         "0.7%",
         "0.8%",
         "4.5%",
         "BILBAO"
        ],
        [
         "22",
         "2023-04-01 00:00:00",
         "3183.0",
         "0.3%",
         "-0.1%",
         "3.6%",
         "BILBAO"
        ],
        [
         "23",
         "2023-03-01 00:00:00",
         "3174.0",
         "-0.2%",
         "0.2%",
         "2.7%",
         "BILBAO"
        ],
        [
         "24",
         "2023-02-01 00:00:00",
         "3179.0",
         "-0.3%",
         "0.9%",
         "3.1%",
         "BILBAO"
        ],
        [
         "25",
         "2023-01-01 00:00:00",
         "3187.0",
         "0.7%",
         "1.5%",
         "3.8%",
         "BILBAO"
        ],
        [
         "26",
         "2022-12-01 00:00:00",
         "3166.0",
         "0.5%",
         "2.5%",
         "4.5%",
         "BILBAO"
        ],
        [
         "27",
         "2022-11-01 00:00:00",
         "3151.0",
         "0.4%",
         "2.5%",
         "4.7%",
         "BILBAO"
        ],
        [
         "28",
         "2022-10-01 00:00:00",
         "3139.0",
         "1.6%",
         "2.3%",
         "5,00%",
         "BILBAO"
        ],
        [
         "29",
         "2022-09-01 00:00:00",
         "3090.0",
         "0.5%",
         "1.1%",
         "3.6%",
         "BILBAO"
        ],
        [
         "30",
         "2022-08-01 00:00:00",
         "3076.0",
         "0.2%",
         "0.3%",
         "4,00%",
         "BILBAO"
        ],
        [
         "31",
         "2022-07-01 00:00:00",
         "3069.0",
         "0.4%",
         "-0.1%",
         "2.6%",
         "BILBAO"
        ],
        [
         "32",
         "2022-06-01 00:00:00",
         "3057.0",
         "-0.3%",
         "-1.1%",
         "2.8%",
         "BILBAO"
        ],
        [
         "33",
         "2022-05-01 00:00:00",
         "3065.0",
         "-0.2%",
         "-0.6%",
         "3,00%",
         "BILBAO"
        ],
        [
         "34",
         "2022-04-01 00:00:00",
         "3071.0",
         "-0.6%",
         "0,00%",
         "2.9%",
         "BILBAO"
        ],
        [
         "35",
         "2022-03-01 00:00:00",
         "3090.0",
         "0.2%",
         "2,00%",
         "2.8%",
         "BILBAO"
        ],
        [
         "36",
         "2022-02-01 00:00:00",
         "3084.0",
         "0.4%",
         "2.5%",
         "2,00%",
         "BILBAO"
        ],
        [
         "37",
         "2022-01-01 00:00:00",
         "3072.0",
         "1.4%",
         "2.7%",
         "1.7%",
         "BILBAO"
        ],
        [
         "38",
         "2021-12-01 00:00:00",
         "3031.0",
         "0.7%",
         "1.6%",
         "0.5%",
         "BILBAO"
        ],
        [
         "39",
         "2021-11-01 00:00:00",
         "3010.0",
         "0.7%",
         "1.8%",
         "-0.3%",
         "BILBAO"
        ],
        [
         "40",
         "2021-10-01 00:00:00",
         "2990.0",
         "0.3%",
         "0,00%",
         "-1.4%",
         "BILBAO"
        ],
        [
         "41",
         "2021-09-01 00:00:00",
         "2982.0",
         "0.8%",
         "0.2%",
         "-1.1%",
         "BILBAO"
        ],
        [
         "42",
         "2021-08-01 00:00:00",
         "2957.0",
         "-1.1%",
         "-0.7%",
         "-1.1%",
         "BILBAO"
        ],
        [
         "43",
         "2021-07-01 00:00:00",
         "2990.0",
         "0.5%",
         "0.2%",
         "0,00%",
         "BILBAO"
        ],
        [
         "44",
         "2021-06-01 00:00:00",
         "2974.0",
         "-0.1%",
         "-1.1%",
         "-1.2%",
         "BILBAO"
        ],
        [
         "45",
         "2021-05-01 00:00:00",
         "2977.0",
         "-0.2%",
         "-1.5%",
         "-0.1%",
         "BILBAO"
        ],
        [
         "46",
         "2021-04-01 00:00:00",
         "2984.0",
         "-0.8%",
         "-1.2%",
         "1,00%",
         "BILBAO"
        ],
        [
         "47",
         "2021-03-01 00:00:00",
         "3007.0",
         "-0.5%",
         "-0.3%",
         "3.1%",
         "BILBAO"
        ],
        [
         "48",
         "2021-02-01 00:00:00",
         "3023.0",
         "0.1%",
         "0.2%",
         "5.2%",
         "BILBAO"
        ],
        [
         "49",
         "2021-01-01 00:00:00",
         "3019.0",
         "0.1%",
         "-0.4%",
         "5.2%",
         "BILBAO"
        ]
       ],
       "shape": {
        "columns": 6,
        "rows": 1849
       }
      },
      "text/html": [
       "<div>\n",
       "<style scoped>\n",
       "    .dataframe tbody tr th:only-of-type {\n",
       "        vertical-align: middle;\n",
       "    }\n",
       "\n",
       "    .dataframe tbody tr th {\n",
       "        vertical-align: top;\n",
       "    }\n",
       "\n",
       "    .dataframe thead th {\n",
       "        text-align: right;\n",
       "    }\n",
       "</style>\n",
       "<table border=\"1\" class=\"dataframe\">\n",
       "  <thead>\n",
       "    <tr style=\"text-align: right;\">\n",
       "      <th></th>\n",
       "      <th>Mes</th>\n",
       "      <th>Precio m2</th>\n",
       "      <th>Variación mensual</th>\n",
       "      <th>Variación trimestral</th>\n",
       "      <th>Variación anual</th>\n",
       "      <th>Distrito</th>\n",
       "    </tr>\n",
       "  </thead>\n",
       "  <tbody>\n",
       "    <tr>\n",
       "      <th>0</th>\n",
       "      <td>2025-02-01 00:00:00</td>\n",
       "      <td>3524.0</td>\n",
       "      <td>1.1%</td>\n",
       "      <td>3.2%</td>\n",
       "      <td>7.6%</td>\n",
       "      <td>BILBAO</td>\n",
       "    </tr>\n",
       "    <tr>\n",
       "      <th>1</th>\n",
       "      <td>2025-01-01 00:00:00</td>\n",
       "      <td>3485.0</td>\n",
       "      <td>-0.2%</td>\n",
       "      <td>3.1%</td>\n",
       "      <td>6.8%</td>\n",
       "      <td>BILBAO</td>\n",
       "    </tr>\n",
       "    <tr>\n",
       "      <th>2</th>\n",
       "      <td>2024-12-01 00:00:00</td>\n",
       "      <td>3491.0</td>\n",
       "      <td>2.2%</td>\n",
       "      <td>3.1%</td>\n",
       "      <td>7.7%</td>\n",
       "      <td>BILBAO</td>\n",
       "    </tr>\n",
       "    <tr>\n",
       "      <th>3</th>\n",
       "      <td>2024-11-01 00:00:00</td>\n",
       "      <td>3417.0</td>\n",
       "      <td>1.1%</td>\n",
       "      <td>1,00%</td>\n",
       "      <td>6.2%</td>\n",
       "      <td>BILBAO</td>\n",
       "    </tr>\n",
       "    <tr>\n",
       "      <th>4</th>\n",
       "      <td>2024-10-01 00:00:00</td>\n",
       "      <td>3381.0</td>\n",
       "      <td>-0.1%</td>\n",
       "      <td>0.9%</td>\n",
       "      <td>5.9%</td>\n",
       "      <td>BILBAO</td>\n",
       "    </tr>\n",
       "    <tr>\n",
       "      <th>...</th>\n",
       "      <td>...</td>\n",
       "      <td>...</td>\n",
       "      <td>...</td>\n",
       "      <td>...</td>\n",
       "      <td>...</td>\n",
       "      <td>...</td>\n",
       "    </tr>\n",
       "    <tr>\n",
       "      <th>2462</th>\n",
       "      <td>2011-08-01 00:00:00</td>\n",
       "      <td>3292.0</td>\n",
       "      <td>-0.4%</td>\n",
       "      <td>-2.9%</td>\n",
       "      <td>-0.7%</td>\n",
       "      <td>Uribarri</td>\n",
       "    </tr>\n",
       "    <tr>\n",
       "      <th>2463</th>\n",
       "      <td>2011-07-01 00:00:00</td>\n",
       "      <td>3306.0</td>\n",
       "      <td>-0.1%</td>\n",
       "      <td>-1.1%</td>\n",
       "      <td>0.9%</td>\n",
       "      <td>Uribarri</td>\n",
       "    </tr>\n",
       "    <tr>\n",
       "      <th>2464</th>\n",
       "      <td>2011-06-01 00:00:00</td>\n",
       "      <td>3308.0</td>\n",
       "      <td>-2.4%</td>\n",
       "      <td>-1.7%</td>\n",
       "      <td>4.8%</td>\n",
       "      <td>Uribarri</td>\n",
       "    </tr>\n",
       "    <tr>\n",
       "      <th>2465</th>\n",
       "      <td>2011-05-01 00:00:00</td>\n",
       "      <td>3391.0</td>\n",
       "      <td>1.4%</td>\n",
       "      <td>0.2%</td>\n",
       "      <td>4.4%</td>\n",
       "      <td>Uribarri</td>\n",
       "    </tr>\n",
       "    <tr>\n",
       "      <th>2466</th>\n",
       "      <td>2011-04-01 00:00:00</td>\n",
       "      <td>3344.0</td>\n",
       "      <td>-0.7%</td>\n",
       "      <td>-1.5%</td>\n",
       "      <td>5.7%</td>\n",
       "      <td>Uribarri</td>\n",
       "    </tr>\n",
       "  </tbody>\n",
       "</table>\n",
       "<p>1849 rows × 6 columns</p>\n",
       "</div>"
      ],
      "text/plain": [
       "                      Mes  Precio m2 Variación mensual Variación trimestral  \\\n",
       "0     2025-02-01 00:00:00     3524.0              1.1%                 3.2%   \n",
       "1     2025-01-01 00:00:00     3485.0             -0.2%                 3.1%   \n",
       "2     2024-12-01 00:00:00     3491.0              2.2%                 3.1%   \n",
       "3     2024-11-01 00:00:00     3417.0              1.1%                1,00%   \n",
       "4     2024-10-01 00:00:00     3381.0             -0.1%                 0.9%   \n",
       "...                   ...        ...               ...                  ...   \n",
       "2462  2011-08-01 00:00:00     3292.0             -0.4%                -2.9%   \n",
       "2463  2011-07-01 00:00:00     3306.0             -0.1%                -1.1%   \n",
       "2464  2011-06-01 00:00:00     3308.0             -2.4%                -1.7%   \n",
       "2465  2011-05-01 00:00:00     3391.0              1.4%                 0.2%   \n",
       "2466  2011-04-01 00:00:00     3344.0             -0.7%                -1.5%   \n",
       "\n",
       "     Variación anual  Distrito  \n",
       "0               7.6%    BILBAO  \n",
       "1               6.8%    BILBAO  \n",
       "2               7.7%    BILBAO  \n",
       "3               6.2%    BILBAO  \n",
       "4               5.9%    BILBAO  \n",
       "...              ...       ...  \n",
       "2462           -0.7%  Uribarri  \n",
       "2463            0.9%  Uribarri  \n",
       "2464            4.8%  Uribarri  \n",
       "2465            4.4%  Uribarri  \n",
       "2466            5.7%  Uribarri  \n",
       "\n",
       "[1849 rows x 6 columns]"
      ]
     },
     "execution_count": 27,
     "metadata": {},
     "output_type": "execute_result"
    }
   ],
   "source": [
    "var_an = comp[comp[\"Variación anual\"] != \"n.d.\"]\n",
    "var_an"
   ]
  },
  {
   "cell_type": "code",
   "execution_count": 28,
   "metadata": {},
   "outputs": [
    {
     "name": "stderr",
     "output_type": "stream",
     "text": [
      "C:\\Users\\pacof\\AppData\\Local\\Temp\\ipykernel_15928\\2104811963.py:1: SettingWithCopyWarning: \n",
      "A value is trying to be set on a copy of a slice from a DataFrame.\n",
      "Try using .loc[row_indexer,col_indexer] = value instead\n",
      "\n",
      "See the caveats in the documentation: https://pandas.pydata.org/pandas-docs/stable/user_guide/indexing.html#returning-a-view-versus-a-copy\n",
      "  var_an[\"Variación anual\"] = var_an[\"Variación anual\"].str.replace(\",\",\".\")\n",
      "C:\\Users\\pacof\\AppData\\Local\\Temp\\ipykernel_15928\\2104811963.py:2: SettingWithCopyWarning: \n",
      "A value is trying to be set on a copy of a slice from a DataFrame.\n",
      "Try using .loc[row_indexer,col_indexer] = value instead\n",
      "\n",
      "See the caveats in the documentation: https://pandas.pydata.org/pandas-docs/stable/user_guide/indexing.html#returning-a-view-versus-a-copy\n",
      "  var_an[\"Variación anual\"] = var_an[\"Variación anual\"].str.replace(\"%\",\"\")\n",
      "C:\\Users\\pacof\\AppData\\Local\\Temp\\ipykernel_15928\\2104811963.py:3: SettingWithCopyWarning: \n",
      "A value is trying to be set on a copy of a slice from a DataFrame.\n",
      "Try using .loc[row_indexer,col_indexer] = value instead\n",
      "\n",
      "See the caveats in the documentation: https://pandas.pydata.org/pandas-docs/stable/user_guide/indexing.html#returning-a-view-versus-a-copy\n",
      "  var_an[\"Variación anual\"] = np.float64(var_an[\"Variación anual\"])\n"
     ]
    },
    {
     "data": {
      "application/vnd.microsoft.datawrangler.viewer.v0+json": {
       "columns": [
        {
         "name": "index",
         "rawType": "int64",
         "type": "integer"
        },
        {
         "name": "Mes",
         "rawType": "object",
         "type": "unknown"
        },
        {
         "name": "Precio m2",
         "rawType": "float64",
         "type": "float"
        },
        {
         "name": "Variación mensual",
         "rawType": "object",
         "type": "string"
        },
        {
         "name": "Variación trimestral",
         "rawType": "object",
         "type": "string"
        },
        {
         "name": "Variación anual",
         "rawType": "float64",
         "type": "float"
        },
        {
         "name": "Distrito",
         "rawType": "object",
         "type": "string"
        }
       ],
       "conversionMethod": "pd.DataFrame",
       "ref": "62f2cc48-53b6-4d2b-9bba-007e6e8e95de",
       "rows": [
        [
         "0",
         "2025-02-01 00:00:00",
         "3524.0",
         "1.1%",
         "3.2%",
         "7.6",
         "BILBAO"
        ],
        [
         "1",
         "2025-01-01 00:00:00",
         "3485.0",
         "-0.2%",
         "3.1%",
         "6.8",
         "BILBAO"
        ],
        [
         "2",
         "2024-12-01 00:00:00",
         "3491.0",
         "2.2%",
         "3.1%",
         "7.7",
         "BILBAO"
        ],
        [
         "3",
         "2024-11-01 00:00:00",
         "3417.0",
         "1.1%",
         "1,00%",
         "6.2",
         "BILBAO"
        ],
        [
         "4",
         "2024-10-01 00:00:00",
         "3381.0",
         "-0.1%",
         "0.9%",
         "5.9",
         "BILBAO"
        ],
        [
         "5",
         "2024-09-01 00:00:00",
         "3384.0",
         "0,00%",
         "2.5%",
         "6.1",
         "BILBAO"
        ],
        [
         "6",
         "2024-08-01 00:00:00",
         "3383.0",
         "1,00%",
         "2.7%",
         "6.9",
         "BILBAO"
        ],
        [
         "7",
         "2024-07-01 00:00:00",
         "3350.0",
         "1.5%",
         "1.9%",
         "6.3",
         "BILBAO"
        ],
        [
         "8",
         "2024-06-01 00:00:00",
         "3301.0",
         "0.2%",
         "0.3%",
         "4.1",
         "BILBAO"
        ],
        [
         "9",
         "2024-05-01 00:00:00",
         "3293.0",
         "0.1%",
         "0.5%",
         "2.8",
         "BILBAO"
        ],
        [
         "10",
         "2024-04-01 00:00:00",
         "3290.0",
         "-0.1%",
         "0.8%",
         "3.4",
         "BILBAO"
        ],
        [
         "11",
         "2024-03-01 00:00:00",
         "3292.0",
         "0.5%",
         "1.6%",
         "3.7",
         "BILBAO"
        ],
        [
         "12",
         "2024-02-01 00:00:00",
         "3277.0",
         "0.4%",
         "1.9%",
         "3.1",
         "BILBAO"
        ],
        [
         "13",
         "2024-01-01 00:00:00",
         "3264.0",
         "0.7%",
         "2.2%",
         "2.4",
         "BILBAO"
        ],
        [
         "14",
         "2023-12-01 00:00:00",
         "3241.0",
         "0.7%",
         "1.6%",
         "2.3",
         "BILBAO"
        ],
        [
         "15",
         "2023-11-01 00:00:00",
         "3217.0",
         "0.8%",
         "1.7%",
         "2.1",
         "BILBAO"
        ],
        [
         "16",
         "2023-10-01 00:00:00",
         "3193.0",
         "0.1%",
         "1.3%",
         "1.7",
         "BILBAO"
        ],
        [
         "17",
         "2023-09-01 00:00:00",
         "3191.0",
         "0.8%",
         "0.6%",
         "3.3",
         "BILBAO"
        ],
        [
         "18",
         "2023-08-01 00:00:00",
         "3164.0",
         "0.4%",
         "-1.3%",
         "2.9",
         "BILBAO"
        ],
        [
         "19",
         "2023-07-01 00:00:00",
         "3153.0",
         "-0.6%",
         "-0.9%",
         "2.7",
         "BILBAO"
        ],
        [
         "20",
         "2023-06-01 00:00:00",
         "3171.0",
         "-1.1%",
         "-0.1%",
         "3.7",
         "BILBAO"
        ],
        [
         "21",
         "2023-05-01 00:00:00",
         "3204.0",
         "0.7%",
         "0.8%",
         "4.5",
         "BILBAO"
        ],
        [
         "22",
         "2023-04-01 00:00:00",
         "3183.0",
         "0.3%",
         "-0.1%",
         "3.6",
         "BILBAO"
        ],
        [
         "23",
         "2023-03-01 00:00:00",
         "3174.0",
         "-0.2%",
         "0.2%",
         "2.7",
         "BILBAO"
        ],
        [
         "24",
         "2023-02-01 00:00:00",
         "3179.0",
         "-0.3%",
         "0.9%",
         "3.1",
         "BILBAO"
        ],
        [
         "25",
         "2023-01-01 00:00:00",
         "3187.0",
         "0.7%",
         "1.5%",
         "3.8",
         "BILBAO"
        ],
        [
         "26",
         "2022-12-01 00:00:00",
         "3166.0",
         "0.5%",
         "2.5%",
         "4.5",
         "BILBAO"
        ],
        [
         "27",
         "2022-11-01 00:00:00",
         "3151.0",
         "0.4%",
         "2.5%",
         "4.7",
         "BILBAO"
        ],
        [
         "28",
         "2022-10-01 00:00:00",
         "3139.0",
         "1.6%",
         "2.3%",
         "5.0",
         "BILBAO"
        ],
        [
         "29",
         "2022-09-01 00:00:00",
         "3090.0",
         "0.5%",
         "1.1%",
         "3.6",
         "BILBAO"
        ],
        [
         "30",
         "2022-08-01 00:00:00",
         "3076.0",
         "0.2%",
         "0.3%",
         "4.0",
         "BILBAO"
        ],
        [
         "31",
         "2022-07-01 00:00:00",
         "3069.0",
         "0.4%",
         "-0.1%",
         "2.6",
         "BILBAO"
        ],
        [
         "32",
         "2022-06-01 00:00:00",
         "3057.0",
         "-0.3%",
         "-1.1%",
         "2.8",
         "BILBAO"
        ],
        [
         "33",
         "2022-05-01 00:00:00",
         "3065.0",
         "-0.2%",
         "-0.6%",
         "3.0",
         "BILBAO"
        ],
        [
         "34",
         "2022-04-01 00:00:00",
         "3071.0",
         "-0.6%",
         "0,00%",
         "2.9",
         "BILBAO"
        ],
        [
         "35",
         "2022-03-01 00:00:00",
         "3090.0",
         "0.2%",
         "2,00%",
         "2.8",
         "BILBAO"
        ],
        [
         "36",
         "2022-02-01 00:00:00",
         "3084.0",
         "0.4%",
         "2.5%",
         "2.0",
         "BILBAO"
        ],
        [
         "37",
         "2022-01-01 00:00:00",
         "3072.0",
         "1.4%",
         "2.7%",
         "1.7",
         "BILBAO"
        ],
        [
         "38",
         "2021-12-01 00:00:00",
         "3031.0",
         "0.7%",
         "1.6%",
         "0.5",
         "BILBAO"
        ],
        [
         "39",
         "2021-11-01 00:00:00",
         "3010.0",
         "0.7%",
         "1.8%",
         "-0.3",
         "BILBAO"
        ],
        [
         "40",
         "2021-10-01 00:00:00",
         "2990.0",
         "0.3%",
         "0,00%",
         "-1.4",
         "BILBAO"
        ],
        [
         "41",
         "2021-09-01 00:00:00",
         "2982.0",
         "0.8%",
         "0.2%",
         "-1.1",
         "BILBAO"
        ],
        [
         "42",
         "2021-08-01 00:00:00",
         "2957.0",
         "-1.1%",
         "-0.7%",
         "-1.1",
         "BILBAO"
        ],
        [
         "43",
         "2021-07-01 00:00:00",
         "2990.0",
         "0.5%",
         "0.2%",
         "0.0",
         "BILBAO"
        ],
        [
         "44",
         "2021-06-01 00:00:00",
         "2974.0",
         "-0.1%",
         "-1.1%",
         "-1.2",
         "BILBAO"
        ],
        [
         "45",
         "2021-05-01 00:00:00",
         "2977.0",
         "-0.2%",
         "-1.5%",
         "-0.1",
         "BILBAO"
        ],
        [
         "46",
         "2021-04-01 00:00:00",
         "2984.0",
         "-0.8%",
         "-1.2%",
         "1.0",
         "BILBAO"
        ],
        [
         "47",
         "2021-03-01 00:00:00",
         "3007.0",
         "-0.5%",
         "-0.3%",
         "3.1",
         "BILBAO"
        ],
        [
         "48",
         "2021-02-01 00:00:00",
         "3023.0",
         "0.1%",
         "0.2%",
         "5.2",
         "BILBAO"
        ],
        [
         "49",
         "2021-01-01 00:00:00",
         "3019.0",
         "0.1%",
         "-0.4%",
         "5.2",
         "BILBAO"
        ]
       ],
       "shape": {
        "columns": 6,
        "rows": 1849
       }
      },
      "text/html": [
       "<div>\n",
       "<style scoped>\n",
       "    .dataframe tbody tr th:only-of-type {\n",
       "        vertical-align: middle;\n",
       "    }\n",
       "\n",
       "    .dataframe tbody tr th {\n",
       "        vertical-align: top;\n",
       "    }\n",
       "\n",
       "    .dataframe thead th {\n",
       "        text-align: right;\n",
       "    }\n",
       "</style>\n",
       "<table border=\"1\" class=\"dataframe\">\n",
       "  <thead>\n",
       "    <tr style=\"text-align: right;\">\n",
       "      <th></th>\n",
       "      <th>Mes</th>\n",
       "      <th>Precio m2</th>\n",
       "      <th>Variación mensual</th>\n",
       "      <th>Variación trimestral</th>\n",
       "      <th>Variación anual</th>\n",
       "      <th>Distrito</th>\n",
       "    </tr>\n",
       "  </thead>\n",
       "  <tbody>\n",
       "    <tr>\n",
       "      <th>0</th>\n",
       "      <td>2025-02-01 00:00:00</td>\n",
       "      <td>3524.0</td>\n",
       "      <td>1.1%</td>\n",
       "      <td>3.2%</td>\n",
       "      <td>7.6</td>\n",
       "      <td>BILBAO</td>\n",
       "    </tr>\n",
       "    <tr>\n",
       "      <th>1</th>\n",
       "      <td>2025-01-01 00:00:00</td>\n",
       "      <td>3485.0</td>\n",
       "      <td>-0.2%</td>\n",
       "      <td>3.1%</td>\n",
       "      <td>6.8</td>\n",
       "      <td>BILBAO</td>\n",
       "    </tr>\n",
       "    <tr>\n",
       "      <th>2</th>\n",
       "      <td>2024-12-01 00:00:00</td>\n",
       "      <td>3491.0</td>\n",
       "      <td>2.2%</td>\n",
       "      <td>3.1%</td>\n",
       "      <td>7.7</td>\n",
       "      <td>BILBAO</td>\n",
       "    </tr>\n",
       "    <tr>\n",
       "      <th>3</th>\n",
       "      <td>2024-11-01 00:00:00</td>\n",
       "      <td>3417.0</td>\n",
       "      <td>1.1%</td>\n",
       "      <td>1,00%</td>\n",
       "      <td>6.2</td>\n",
       "      <td>BILBAO</td>\n",
       "    </tr>\n",
       "    <tr>\n",
       "      <th>4</th>\n",
       "      <td>2024-10-01 00:00:00</td>\n",
       "      <td>3381.0</td>\n",
       "      <td>-0.1%</td>\n",
       "      <td>0.9%</td>\n",
       "      <td>5.9</td>\n",
       "      <td>BILBAO</td>\n",
       "    </tr>\n",
       "    <tr>\n",
       "      <th>...</th>\n",
       "      <td>...</td>\n",
       "      <td>...</td>\n",
       "      <td>...</td>\n",
       "      <td>...</td>\n",
       "      <td>...</td>\n",
       "      <td>...</td>\n",
       "    </tr>\n",
       "    <tr>\n",
       "      <th>2462</th>\n",
       "      <td>2011-08-01 00:00:00</td>\n",
       "      <td>3292.0</td>\n",
       "      <td>-0.4%</td>\n",
       "      <td>-2.9%</td>\n",
       "      <td>-0.7</td>\n",
       "      <td>Uribarri</td>\n",
       "    </tr>\n",
       "    <tr>\n",
       "      <th>2463</th>\n",
       "      <td>2011-07-01 00:00:00</td>\n",
       "      <td>3306.0</td>\n",
       "      <td>-0.1%</td>\n",
       "      <td>-1.1%</td>\n",
       "      <td>0.9</td>\n",
       "      <td>Uribarri</td>\n",
       "    </tr>\n",
       "    <tr>\n",
       "      <th>2464</th>\n",
       "      <td>2011-06-01 00:00:00</td>\n",
       "      <td>3308.0</td>\n",
       "      <td>-2.4%</td>\n",
       "      <td>-1.7%</td>\n",
       "      <td>4.8</td>\n",
       "      <td>Uribarri</td>\n",
       "    </tr>\n",
       "    <tr>\n",
       "      <th>2465</th>\n",
       "      <td>2011-05-01 00:00:00</td>\n",
       "      <td>3391.0</td>\n",
       "      <td>1.4%</td>\n",
       "      <td>0.2%</td>\n",
       "      <td>4.4</td>\n",
       "      <td>Uribarri</td>\n",
       "    </tr>\n",
       "    <tr>\n",
       "      <th>2466</th>\n",
       "      <td>2011-04-01 00:00:00</td>\n",
       "      <td>3344.0</td>\n",
       "      <td>-0.7%</td>\n",
       "      <td>-1.5%</td>\n",
       "      <td>5.7</td>\n",
       "      <td>Uribarri</td>\n",
       "    </tr>\n",
       "  </tbody>\n",
       "</table>\n",
       "<p>1849 rows × 6 columns</p>\n",
       "</div>"
      ],
      "text/plain": [
       "                      Mes  Precio m2 Variación mensual Variación trimestral  \\\n",
       "0     2025-02-01 00:00:00     3524.0              1.1%                 3.2%   \n",
       "1     2025-01-01 00:00:00     3485.0             -0.2%                 3.1%   \n",
       "2     2024-12-01 00:00:00     3491.0              2.2%                 3.1%   \n",
       "3     2024-11-01 00:00:00     3417.0              1.1%                1,00%   \n",
       "4     2024-10-01 00:00:00     3381.0             -0.1%                 0.9%   \n",
       "...                   ...        ...               ...                  ...   \n",
       "2462  2011-08-01 00:00:00     3292.0             -0.4%                -2.9%   \n",
       "2463  2011-07-01 00:00:00     3306.0             -0.1%                -1.1%   \n",
       "2464  2011-06-01 00:00:00     3308.0             -2.4%                -1.7%   \n",
       "2465  2011-05-01 00:00:00     3391.0              1.4%                 0.2%   \n",
       "2466  2011-04-01 00:00:00     3344.0             -0.7%                -1.5%   \n",
       "\n",
       "      Variación anual  Distrito  \n",
       "0                 7.6    BILBAO  \n",
       "1                 6.8    BILBAO  \n",
       "2                 7.7    BILBAO  \n",
       "3                 6.2    BILBAO  \n",
       "4                 5.9    BILBAO  \n",
       "...               ...       ...  \n",
       "2462             -0.7  Uribarri  \n",
       "2463              0.9  Uribarri  \n",
       "2464              4.8  Uribarri  \n",
       "2465              4.4  Uribarri  \n",
       "2466              5.7  Uribarri  \n",
       "\n",
       "[1849 rows x 6 columns]"
      ]
     },
     "execution_count": 28,
     "metadata": {},
     "output_type": "execute_result"
    }
   ],
   "source": [
    "var_an[\"Variación anual\"] = var_an[\"Variación anual\"].str.replace(\",\",\".\")\n",
    "var_an[\"Variación anual\"] = var_an[\"Variación anual\"].str.replace(\"%\",\"\")\n",
    "var_an[\"Variación anual\"] = np.float64(var_an[\"Variación anual\"])\n",
    "var_an"
   ]
  },
  {
   "cell_type": "code",
   "execution_count": 29,
   "metadata": {},
   "outputs": [
    {
     "data": {
      "text/plain": [
       "array(['2022-01-01T00:00:00.000000000', '2021-01-01T00:00:00.000000000',\n",
       "       '2020-01-01T00:00:00.000000000', '2019-01-01T00:00:00.000000000',\n",
       "       '2018-01-01T00:00:00.000000000', '2017-01-01T00:00:00.000000000',\n",
       "       '2016-01-01T00:00:00.000000000', '2015-01-01T00:00:00.000000000',\n",
       "       '2014-01-01T00:00:00.000000000', '2013-01-01T00:00:00.000000000',\n",
       "       '2012-01-01T00:00:00.000000000', '2011-01-01T00:00:00.000000000'],\n",
       "      dtype='datetime64[ns]')"
      ]
     },
     "execution_count": 29,
     "metadata": {},
     "output_type": "execute_result"
    }
   ],
   "source": [
    "x = np.array(ipc[\"Periodo\"])\n",
    "x[2:14]"
   ]
  },
  {
   "cell_type": "code",
   "execution_count": 30,
   "metadata": {},
   "outputs": [
    {
     "data": {
      "image/png": "[encoded data removed]",
      "text/plain": [
       "<Figure size 1000x900 with 1 Axes>"
      ]
     },
     "metadata": {},
     "output_type": "display_data"
    }
   ],
   "source": [
    "plt.figure(figsize=(10,9))\n",
    "sns.lineplot(data = var_an[var_an[\"Distrito\"] == \"BILBAO\"], x = \"Mes\", y = \"Variación anual\", label = \"Compra m2 Bilbao\")\n",
    "sns.lineplot(data = ipc[ipc[\"Grupos ECOICOP\"] == \"04 Vivienda, agua, electricidad, gas y otros combustibles\"], x = \"Periodo\", y = \"Total\", label = \"IPC Euskadi\")\n",
    "plt.ylabel(\"Variación %\")\n",
    "plt.xlim(x[15],x[1])\n",
    "plt.title(\"Variación porcentual del IPC de vivienda + suministros y precio del compra en Bilbao\");"
   ]
  },
  {
   "cell_type": "code",
   "execution_count": 31,
   "metadata": {},
   "outputs": [
    {
     "data": {
      "image/png": "[encoded data removed]",
      "text/plain": [
       "<Figure size 1000x900 with 1 Axes>"
      ]
     },
     "metadata": {},
     "output_type": "display_data"
    }
   ],
   "source": [
    "plt.figure(figsize=(10,9))\n",
    "sns.lineplot(data = var_an[var_an[\"Distrito\"] == \"BILBAO\"], x = \"Mes\", y = \"Variación anual\", label = \"Compra m2 Bilbao\")\n",
    "sns.lineplot(data = ipc[ipc[\"Grupos ECOICOP\"] == \"Índice general\"], x = \"Periodo\", y = \"Total\", label = \"IPC Euskadi\")\n",
    "plt.ylabel(\"Variación %\")\n",
    "plt.xlim(x[15],x[1])\n",
    "plt.ylim([-12,15])\n",
    "plt.title(\"Variación porcentual del IPC general y precio del compra en Bilbao\");"
   ]
  }
 ],
 "metadata": {
  "kernelspec": {
   "display_name": "Python 3",
   "language": "python",
   "name": "python3"
  },
  "language_info": {
   "codemirror_mode": {
    "name": "ipython",
    "version": 3
   },
   "file_extension": ".py",
   "mimetype": "text/x-python",
   "name": "python",
   "nbconvert_exporter": "python",
   "pygments_lexer": "ipython3",
   "version": "3.11.9"
  }
 },
 "nbformat": 4,
 "nbformat_minor": 2
}
